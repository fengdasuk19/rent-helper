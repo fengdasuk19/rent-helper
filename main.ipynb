{
 "cells": [
  {
   "cell_type": "code",
   "execution_count": 1,
   "metadata": {
    "collapsed": true
   },
   "outputs": [],
   "source": [
    "import os, re\n",
    "\n",
    "import requests\n",
    "from bs4 import BeautifulSoup as bs"
   ]
  },
  {
   "cell_type": "markdown",
   "metadata": {},
   "source": [
    "## 获取起止点距离（后期需要 OO 化）"
   ]
  },
  {
   "cell_type": "code",
   "execution_count": 38,
   "metadata": {},
   "outputs": [],
   "source": [
    "keyfile = 'infos/myBaiduAK.txt'\n",
    "with open(keyfile, 'r') as keyf:\n",
    "    myBaiduAK = keyf.read()"
   ]
  },
  {
   "cell_type": "code",
   "execution_count": 53,
   "metadata": {},
   "outputs": [],
   "source": [
    "def location_FirstResult(place, region=\"北京\", myBaiduAK=myBaiduAK):\n",
    "        \n",
    "    strSearch = \"http://api.map.baidu.com/place/v2/search?\\\n",
    "query={}&region={}&city_limit=true&output=json&ak={}\".format(\n",
    "        place, region, myBaiduAK)\n",
    "    responseRaw = requests.get(url=strSearch)\n",
    "    results = responseRaw.json()['results']\n",
    "    result  = results[0]['location']\n",
    "    \n",
    "    return result"
   ]
  },
  {
   "cell_type": "code",
   "execution_count": 54,
   "metadata": {
    "collapsed": true
   },
   "outputs": [],
   "source": [
    "def distance_FirstResult(place_begin, place_end, myBaiduAK=myBaiduAK):\n",
    "    getLocs = lambda x: (x['lat'], x['lng'])\n",
    "    lat_origin, lng_origin = getLocs(location_FirstResult(place=place_begin))\n",
    "    lat_destination, lng_destination = getLocs(location_FirstResult(place=place_end))\n",
    "    strRoute = \"http://api.map.baidu.com/routematrix/v2/walking?output=json\\\n",
    "&origins={},{}&destinations={},{}&ak={}\".format(\n",
    "        lat_origin, lng_origin,\n",
    "        lat_destination, lng_destination,\n",
    "        myBaiduAK\n",
    "    )\n",
    "    responseRaw = requests.get(url=strRoute)\n",
    "    results = responseRaw.json()['result']\n",
    "    result = results[0]['distance']['value']\n",
    "    \n",
    "    return result"
   ]
  },
  {
   "cell_type": "code",
   "execution_count": 55,
   "metadata": {},
   "outputs": [],
   "source": [
    "ttt = distance_FirstResult(place_begin=\"五道口-地铁站\", place_end=\"清华大学东门\")"
   ]
  },
  {
   "cell_type": "code",
   "execution_count": 57,
   "metadata": {},
   "outputs": [
    {
     "data": {
      "text/plain": [
       "852"
      ]
     },
     "execution_count": 57,
     "metadata": {},
     "output_type": "execute_result"
    }
   ],
   "source": [
    "ttt"
   ]
  },
  {
   "cell_type": "code",
   "execution_count": null,
   "metadata": {
    "collapsed": true
   },
   "outputs": [],
   "source": []
  }
 ],
 "metadata": {
  "kernelspec": {
   "display_name": "Python 3",
   "language": "python",
   "name": "python3"
  },
  "language_info": {
   "codemirror_mode": {
    "name": "ipython",
    "version": 3
   },
   "file_extension": ".py",
   "mimetype": "text/x-python",
   "name": "python",
   "nbconvert_exporter": "python",
   "pygments_lexer": "ipython3",
   "version": "3.6.1"
  }
 },
 "nbformat": 4,
 "nbformat_minor": 2
}
