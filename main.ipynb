{
 "cells": [
  {
   "cell_type": "code",
   "execution_count": 1,
   "metadata": {
    "collapsed": true
   },
   "outputs": [],
   "source": [
    "import os, re\n",
    "\n",
    "import requests, json\n",
    "from bs4 import BeautifulSoup as bs"
   ]
  },
  {
   "cell_type": "markdown",
   "metadata": {},
   "source": [
    "## 获取起止点距离（后期需要 OO 化）"
   ]
  },
  {
   "cell_type": "code",
   "execution_count": 231,
   "metadata": {},
   "outputs": [],
   "source": [
    "os.environ['http_proxy'] = ''\n",
    "os.environ['https_proxy'] = ''\n",
    "os.environ['HTTP_PROXY'] = ''\n",
    "os.environ['HTTPS_PROXY'] = ''"
   ]
  },
  {
   "cell_type": "code",
   "execution_count": 232,
   "metadata": {
    "collapsed": true
   },
   "outputs": [],
   "source": [
    "keyfile = 'infos/myBaiduAK.txt'\n",
    "with open(keyfile, 'r') as keyf:\n",
    "    myBaiduAK = keyf.read()"
   ]
  },
  {
   "cell_type": "code",
   "execution_count": 233,
   "metadata": {
    "collapsed": true
   },
   "outputs": [],
   "source": [
    "def location_FirstResult(place, region=\"北京\", myBaiduAK=myBaiduAK):\n",
    "        \n",
    "    strSearch = \"http://api.map.baidu.com/place/v2/search?\\\n",
    "query={}&region={}&city_limit=true&output=json&ak={}\".format(\n",
    "        place, region, myBaiduAK)\n",
    "    responseRaw = requests.get(url=strSearch)\n",
    "    results = responseRaw.json()['results']\n",
    "    result  = results[0]['location']\n",
    "    \n",
    "    return result"
   ]
  },
  {
   "cell_type": "code",
   "execution_count": 234,
   "metadata": {
    "collapsed": true
   },
   "outputs": [],
   "source": [
    "def distance_FirstResult(place_begin, place_end, myBaiduAK=myBaiduAK):\n",
    "    getLocs = lambda x: (x['lat'], x['lng'])\n",
    "    if type(place_begin) is str:\n",
    "        lat_origin, lng_origin = getLocs(location_FirstResult(place=place_begin))\n",
    "    else:\n",
    "        lat_origin, lng_origin = place_begin['lat'], place_begin['lng']\n",
    "    if type(place_end) is str:\n",
    "        lat_destination, lng_destination = getLocs(location_FirstResult(place=place_end))\n",
    "    else:\n",
    "        lat_destination, lng_destination = place_end['lat'], place_end['lng']\n",
    "    strRoute = \"http://api.map.baidu.com/routematrix/v2/walking?output=json\\\n",
    "&origins={},{}&destinations={},{}&ak={}\".format(\n",
    "        lat_origin, lng_origin,\n",
    "        lat_destination, lng_destination,\n",
    "        myBaiduAK\n",
    "    )\n",
    "    responseRaw = requests.get(url=strRoute)\n",
    "    results = responseRaw.json()['result']\n",
    "    result = results[0]['distance']['value']\n",
    "    \n",
    "    return result"
   ]
  },
  {
   "cell_type": "code",
   "execution_count": 235,
   "metadata": {},
   "outputs": [],
   "source": [
    "ppp = distance_FirstResult(place_begin=\"五道口-地铁站\", place_end=\"清华大学东门\")"
   ]
  },
  {
   "cell_type": "code",
   "execution_count": 236,
   "metadata": {},
   "outputs": [
    {
     "data": {
      "text/plain": [
       "852"
      ]
     },
     "execution_count": 236,
     "metadata": {},
     "output_type": "execute_result"
    }
   ],
   "source": [
    "ttt"
   ]
  },
  {
   "cell_type": "code",
   "execution_count": 221,
   "metadata": {
    "collapsed": true
   },
   "outputs": [],
   "source": [
    "ttt = distance_FirstResult(place_begin=\"五道口-地铁站\", place_end=\"清华大学东门\")"
   ]
  },
  {
   "cell_type": "code",
   "execution_count": 222,
   "metadata": {},
   "outputs": [
    {
     "data": {
      "text/plain": [
       "852"
      ]
     },
     "execution_count": 222,
     "metadata": {},
     "output_type": "execute_result"
    }
   ],
   "source": [
    "ttt"
   ]
  },
  {
   "cell_type": "code",
   "execution_count": 224,
   "metadata": {
    "collapsed": true
   },
   "outputs": [],
   "source": [
    "www = location_FirstResult(place='五道口')"
   ]
  },
  {
   "cell_type": "code",
   "execution_count": 225,
   "metadata": {
    "collapsed": true
   },
   "outputs": [],
   "source": [
    "sss = distance_FirstResult(place_begin=www, place_end=\"清华大学东门\")"
   ]
  },
  {
   "cell_type": "code",
   "execution_count": 226,
   "metadata": {},
   "outputs": [
    {
     "data": {
      "text/plain": [
       "852"
      ]
     },
     "execution_count": 226,
     "metadata": {},
     "output_type": "execute_result"
    }
   ],
   "source": [
    "sss"
   ]
  },
  {
   "cell_type": "markdown",
   "metadata": {},
   "source": [
    "## 尝试获取网页中的位置座标"
   ]
  },
  {
   "cell_type": "markdown",
   "metadata": {},
   "source": [
    "###  107 间"
   ]
  },
  {
   "cell_type": "code",
   "execution_count": 7,
   "metadata": {
    "collapsed": true
   },
   "outputs": [],
   "source": [
    "url = 'http://www.107room.com/r175543'\n",
    "webRaw = requests.get(url=url)\n",
    "\n",
    "webSoup = bs(webRaw.text, 'lxml')\n",
    "\n",
    "selectors = {\n",
    "    'lat': '#content > div.pointlat',\n",
    "    'lng': '#content > div.pointlng'\n",
    "}\n",
    "lats = webSoup.select(selectors['lat'])\n",
    "lngs = webSoup.select(selectors['lng'])\n",
    "\n",
    "lat = float(lats[0].text)\n",
    "lng = float(lngs[0].text)"
   ]
  },
  {
   "cell_type": "code",
   "execution_count": 84,
   "metadata": {},
   "outputs": [
    {
     "name": "stdout",
     "output_type": "stream",
     "text": [
      "39.942078 116.358257\n"
     ]
    }
   ],
   "source": [
    "print(lat, lng)"
   ]
  },
  {
   "cell_type": "markdown",
   "metadata": {},
   "source": [
    "### 赶集网"
   ]
  },
  {
   "cell_type": "code",
   "execution_count": 85,
   "metadata": {
    "collapsed": true
   },
   "outputs": [],
   "source": [
    "url = 'http://bj.ganji.com/fang1/2822309036x.htm'\n",
    "webRaw = requests.get(url=url)\n",
    "\n",
    "webSoup = bs(webRaw.text, 'lxml')\n",
    "\n"
   ]
  },
  {
   "cell_type": "code",
   "execution_count": 121,
   "metadata": {},
   "outputs": [],
   "source": [
    "for i in webSoup.find_all(class_='map-content'):\n",
    "    tdata = json.loads(i.get('data-ref'))\n",
    "    if 'lnglat' in tdata:\n",
    "        lnglat = tdata['lnglat'].split(',')\n",
    "        lng_str = lnglat[0].strip('b')\n",
    "        lat_str = lnglat[1]\n",
    "        \n",
    "lng = float(lng_str)\n",
    "lat = float(lat_str)"
   ]
  },
  {
   "cell_type": "code",
   "execution_count": 122,
   "metadata": {},
   "outputs": [
    {
     "data": {
      "text/plain": [
       "116.369226"
      ]
     },
     "execution_count": 122,
     "metadata": {},
     "output_type": "execute_result"
    }
   ],
   "source": [
    "lng"
   ]
  },
  {
   "cell_type": "code",
   "execution_count": 123,
   "metadata": {},
   "outputs": [
    {
     "data": {
      "text/plain": [
       "39.904155"
      ]
     },
     "execution_count": 123,
     "metadata": {},
     "output_type": "execute_result"
    }
   ],
   "source": [
    "lat"
   ]
  },
  {
   "cell_type": "markdown",
   "metadata": {},
   "source": [
    "### 58 同城"
   ]
  },
  {
   "cell_type": "code",
   "execution_count": 124,
   "metadata": {
    "collapsed": true
   },
   "outputs": [],
   "source": [
    "url = \"http://bj.58.com/zufang/31051221667882x.shtml\"\n",
    "webRaw = requests.get(url=url)"
   ]
  },
  {
   "cell_type": "code",
   "execution_count": 127,
   "metadata": {
    "collapsed": true
   },
   "outputs": [],
   "source": [
    "webSoup = bs(webRaw.text, 'lxml')"
   ]
  },
  {
   "cell_type": "code",
   "execution_count": 213,
   "metadata": {
    "scrolled": false
   },
   "outputs": [],
   "source": [
    "taa = webSoup.find_all('script')[0]\n",
    "\n",
    "for i in webSoup.find_all('script'):\n",
    "    pattern_lng = \"(?<=baidulon\\\":)\\d+\\.\\d+\"\n",
    "    gg_lng = re.search(pattern=pattern_lng, string=taa.text)\n",
    "    if gg_lng:\n",
    "        lng_str = gg_lng.group()\n",
    "\n",
    "    pattern_lat = \"(?<=baidulat\\\":)\\d+\\.\\d+\"\n",
    "    gg_lat = re.search(pattern=pattern_lat, string=taa.text)\n",
    "    if gg_lat:\n",
    "        lat_str = gg_lat.group()\n",
    "\n",
    "lng = float(lng_str)\n",
    "lat = float(lat_str)"
   ]
  },
  {
   "cell_type": "code",
   "execution_count": 215,
   "metadata": {},
   "outputs": [
    {
     "data": {
      "text/plain": [
       "39.904155"
      ]
     },
     "execution_count": 215,
     "metadata": {},
     "output_type": "execute_result"
    }
   ],
   "source": [
    "lat"
   ]
  },
  {
   "cell_type": "code",
   "execution_count": 216,
   "metadata": {},
   "outputs": [
    {
     "data": {
      "text/plain": [
       "116.369226"
      ]
     },
     "execution_count": 216,
     "metadata": {},
     "output_type": "execute_result"
    }
   ],
   "source": [
    "lng"
   ]
  },
  {
   "cell_type": "code",
   "execution_count": null,
   "metadata": {
    "collapsed": true
   },
   "outputs": [],
   "source": []
  },
  {
   "cell_type": "code",
   "execution_count": null,
   "metadata": {
    "collapsed": true
   },
   "outputs": [],
   "source": []
  },
  {
   "cell_type": "code",
   "execution_count": null,
   "metadata": {
    "collapsed": true
   },
   "outputs": [],
   "source": []
  },
  {
   "cell_type": "code",
   "execution_count": null,
   "metadata": {
    "collapsed": true
   },
   "outputs": [],
   "source": []
  }
 ],
 "metadata": {
  "kernelspec": {
   "display_name": "Python 3",
   "language": "python",
   "name": "python3"
  },
  "language_info": {
   "codemirror_mode": {
    "name": "ipython",
    "version": 3
   },
   "file_extension": ".py",
   "mimetype": "text/x-python",
   "name": "python",
   "nbconvert_exporter": "python",
   "pygments_lexer": "ipython3",
   "version": "3.6.1"
  }
 },
 "nbformat": 4,
 "nbformat_minor": 2
}
