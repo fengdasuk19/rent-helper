{
 "cells": [
  {
   "cell_type": "code",
   "execution_count": 259,
   "metadata": {
    "collapsed": true
   },
   "outputs": [],
   "source": [
    "import os, re\n",
    "\n",
    "import requests, json\n",
    "from bs4 import BeautifulSoup as bs\n",
    "\n",
    "import pandas as pd"
   ]
  },
  {
   "cell_type": "markdown",
   "metadata": {},
   "source": [
    "## 获取起止点距离（后期需要 OO 化）"
   ]
  },
  {
   "cell_type": "code",
   "execution_count": 238,
   "metadata": {},
   "outputs": [],
   "source": [
    "os.environ['http_proxy'] = ''\n",
    "os.environ['https_proxy'] = ''\n",
    "os.environ['HTTP_PROXY'] = ''\n",
    "os.environ['HTTPS_PROXY'] = ''"
   ]
  },
  {
   "cell_type": "code",
   "execution_count": 232,
   "metadata": {
    "collapsed": true
   },
   "outputs": [],
   "source": [
    "keyfile = 'infos/myBaiduAK.txt'\n",
    "with open(keyfile, 'r') as keyf:\n",
    "    myBaiduAK = keyf.read()"
   ]
  },
  {
   "cell_type": "code",
   "execution_count": 233,
   "metadata": {
    "collapsed": true
   },
   "outputs": [],
   "source": [
    "def location_FirstResult(place, region=\"北京\", myBaiduAK=myBaiduAK):\n",
    "        \n",
    "    strSearch = \"http://api.map.baidu.com/place/v2/search?\\\n",
    "query={}&region={}&city_limit=true&output=json&ak={}\".format(\n",
    "        place, region, myBaiduAK)\n",
    "    responseRaw = requests.get(url=strSearch)\n",
    "    results = responseRaw.json()['results']\n",
    "    result  = results[0]['location']\n",
    "    \n",
    "    return result"
   ]
  },
  {
   "cell_type": "code",
   "execution_count": 234,
   "metadata": {
    "collapsed": true
   },
   "outputs": [],
   "source": [
    "def distance_FirstResult(place_begin, place_end, myBaiduAK=myBaiduAK):\n",
    "    getLocs = lambda x: (x['lat'], x['lng'])\n",
    "    if type(place_begin) is str:\n",
    "        lat_origin, lng_origin = getLocs(location_FirstResult(place=place_begin))\n",
    "    else:\n",
    "        lat_origin, lng_origin = place_begin['lat'], place_begin['lng']\n",
    "    if type(place_end) is str:\n",
    "        lat_destination, lng_destination = getLocs(location_FirstResult(place=place_end))\n",
    "    else:\n",
    "        lat_destination, lng_destination = place_end['lat'], place_end['lng']\n",
    "    strRoute = \"http://api.map.baidu.com/routematrix/v2/walking?output=json\\\n",
    "&origins={},{}&destinations={},{}&ak={}\".format(\n",
    "        lat_origin, lng_origin,\n",
    "        lat_destination, lng_destination,\n",
    "        myBaiduAK\n",
    "    )\n",
    "    responseRaw = requests.get(url=strRoute)\n",
    "    results = responseRaw.json()['result']\n",
    "    result = results[0]['distance']['value']\n",
    "    \n",
    "    return result"
   ]
  },
  {
   "cell_type": "code",
   "execution_count": 235,
   "metadata": {},
   "outputs": [],
   "source": [
    "ppp = distance_FirstResult(place_begin=\"五道口-地铁站\", place_end=\"清华大学东门\")"
   ]
  },
  {
   "cell_type": "code",
   "execution_count": 236,
   "metadata": {},
   "outputs": [
    {
     "data": {
      "text/plain": [
       "852"
      ]
     },
     "execution_count": 236,
     "metadata": {},
     "output_type": "execute_result"
    }
   ],
   "source": [
    "ttt"
   ]
  },
  {
   "cell_type": "code",
   "execution_count": 221,
   "metadata": {
    "collapsed": true
   },
   "outputs": [],
   "source": [
    "ttt = distance_FirstResult(place_begin=\"五道口-地铁站\", place_end=\"清华大学东门\")"
   ]
  },
  {
   "cell_type": "code",
   "execution_count": 222,
   "metadata": {},
   "outputs": [
    {
     "data": {
      "text/plain": [
       "852"
      ]
     },
     "execution_count": 222,
     "metadata": {},
     "output_type": "execute_result"
    }
   ],
   "source": [
    "ttt"
   ]
  },
  {
   "cell_type": "code",
   "execution_count": 224,
   "metadata": {
    "collapsed": true
   },
   "outputs": [],
   "source": [
    "www = location_FirstResult(place='五道口')"
   ]
  },
  {
   "cell_type": "code",
   "execution_count": 225,
   "metadata": {
    "collapsed": true
   },
   "outputs": [],
   "source": [
    "sss = distance_FirstResult(place_begin=www, place_end=\"清华大学东门\")"
   ]
  },
  {
   "cell_type": "code",
   "execution_count": 226,
   "metadata": {},
   "outputs": [
    {
     "data": {
      "text/plain": [
       "852"
      ]
     },
     "execution_count": 226,
     "metadata": {},
     "output_type": "execute_result"
    }
   ],
   "source": [
    "sss"
   ]
  },
  {
   "cell_type": "markdown",
   "metadata": {},
   "source": [
    "## 尝试获取网页中的位置座标"
   ]
  },
  {
   "cell_type": "code",
   "execution_count": 240,
   "metadata": {
    "collapsed": true
   },
   "outputs": [],
   "source": [
    "keyfile = 'infos/myBaiduAK.txt'\n",
    "with open(keyfile, 'r') as keyf:\n",
    "    myBaiduAK = keyf.read()"
   ]
  },
  {
   "cell_type": "code",
   "execution_count": 241,
   "metadata": {
    "collapsed": true
   },
   "outputs": [],
   "source": [
    "def location_FirstResult(place, region=\"北京\", myBaiduAK=myBaiduAK):\n",
    "        \n",
    "    strSearch = \"http://api.map.baidu.com/place/v2/search?\\\n",
    "query={}&region={}&city_limit=true&output=json&ak={}\".format(\n",
    "        place, region, myBaiduAK)\n",
    "    responseRaw = requests.get(url=strSearch)\n",
    "    results = responseRaw.json()['results']\n",
    "    result  = results[0]['location']\n",
    "    \n",
    "    return result"
   ]
  },
  {
   "cell_type": "code",
   "execution_count": 242,
   "metadata": {
    "collapsed": true
   },
   "outputs": [],
   "source": [
    "def distance_FirstResult(place_begin, place_end, myBaiduAK=myBaiduAK):\n",
    "    getLocs = lambda x: (x['lat'], x['lng'])\n",
    "    if type(place_begin) is str:\n",
    "        lat_origin, lng_origin = getLocs(location_FirstResult(place=place_begin))\n",
    "    else:\n",
    "        lat_origin, lng_origin = place_begin['lat'], place_begin['lng']\n",
    "    if type(place_end) is str:\n",
    "        lat_destination, lng_destination = getLocs(location_FirstResult(place=place_end))\n",
    "    else:\n",
    "        lat_destination, lng_destination = place_end['lat'], place_end['lng']\n",
    "    strRoute = \"http://api.map.baidu.com/routematrix/v2/walking?output=json\\\n",
    "&origins={},{}&destinations={},{}&ak={}\".format(\n",
    "        lat_origin, lng_origin,\n",
    "        lat_destination, lng_destination,\n",
    "        myBaiduAK\n",
    "    )\n",
    "    responseRaw = requests.get(url=strRoute)\n",
    "    results = responseRaw.json()['result']\n",
    "    result = results[0]['distance']['value']\n",
    "    \n",
    "    return result"
   ]
  },
  {
   "cell_type": "code",
   "execution_count": 244,
   "metadata": {
    "collapsed": true
   },
   "outputs": [],
   "source": [
    "def near_WhichPivot(place):\n",
    "    pivots = {\n",
    "        '长椿街-地铁站':'c', \n",
    "        '王府井-地铁站':'w', \n",
    "        '西直门-地铁站':'x', \n",
    "        '东直门-地铁站':'d'\n",
    "    }\n",
    "    LIMIT_NEAR = 2000\n",
    "    \n",
    "    for endpoint in pivots.keys():\n",
    "        if distance_FirstResult(place_begin=place, place_end=endpoint) <= LIMIT_NEAR:\n",
    "            return pivots[endpoint]\n",
    "        \n",
    "    # if not near any pivot\n",
    "    return 'q'"
   ]
  },
  {
   "cell_type": "code",
   "execution_count": 334,
   "metadata": {},
   "outputs": [],
   "source": [
    "class HouseSite(object):\n",
    "    def __str__(self):\n",
    "        return 'HouseSite'\n",
    "    \n",
    "    def __init__(self):\n",
    "        self.webSoup = None\n",
    "        self.cols_zh = ['URL', '位置', '价格', '户型', '面积', '发布日期', '入住日期', '详细描述', '个人直租', '支付方式']\n",
    "        self.cols = ['URL', 'location', 'price', 'align', 'area', 'date_pub', 'date_in', 'detail', 'source', 'payway']\n",
    "        self.db = {col:[] for col in self.cols}\n",
    "        self.flag = False\n",
    "        \n",
    "    def save(self):\n",
    "        db = pd.DataFrame(data=self.db, columns=self.cols_zh)\n",
    "        outfile = '{}.csv'.format(self.__name__)\n",
    "        db.to_csv(outfile)\n",
    "        print('Finish output:', outfile)\n",
    "        \n",
    "    def getInfos(self, url):\n",
    "        self.flag = True\n",
    "        self.getDataRaw(url)\n",
    "        self.getLocation()\n",
    "        self.getPrice()\n",
    "        self.getAlign()\n",
    "        self.getArea()\n",
    "        self.getDate()\n",
    "        self.getSource()\n",
    "        self.getDetail()\n",
    "        self.getPayway()\n",
    "        self.flag = False\n",
    "        print('Finish:', url)\n",
    "        \n",
    "    def getDataRaw(self, url):\n",
    "        if self.flag:\n",
    "            webRaw = requests.get(url=url)\n",
    "            self.webSoup = bs(webRaw.text, 'lxml')\n",
    "            \n",
    "    def getLocation(self): \n",
    "        if self.flag:\n",
    "            print('get location')\n",
    "    \n",
    "    def getPrice(self):\n",
    "        if self.flag:\n",
    "            print('get price')\n",
    "    \n",
    "    def getAlign(self):\n",
    "        if self.flag:\n",
    "            print('get align')\n",
    "    \n",
    "    def getArea(self):\n",
    "        if self.flag:\n",
    "            print('get area')\n",
    "    \n",
    "    def getDate(self):\n",
    "        if self.flag:\n",
    "            #date_pub, date_in\n",
    "            print('get date_pub, date_url')\n",
    "    \n",
    "    def getSource(self):\n",
    "        if self.flag:\n",
    "            print('get source')\n",
    "    \n",
    "    def getDetail(self):\n",
    "        if self.flag:\n",
    "            print('get detail')\n",
    "    \n",
    "    def getPayway(self):\n",
    "        if self.flag:\n",
    "            print('get payway')"
   ]
  },
  {
   "cell_type": "markdown",
   "metadata": {},
   "source": [
    "###  (1) 107 间"
   ]
  },
  {
   "cell_type": "markdown",
   "metadata": {},
   "source": [
    "#### (1.1) 抓取位置"
   ]
  },
  {
   "cell_type": "code",
   "execution_count": 341,
   "metadata": {
    "collapsed": true
   },
   "outputs": [],
   "source": [
    "class Room107(HouseSite):\n",
    "    def __str__(self):\n",
    "        return 'Room107'\n",
    "    \n",
    "    def __init__(self):\n",
    "        self.selectors = {\n",
    "            'lat': '#content > div.pointlat',\n",
    "            'lng': '#content > div.pointlng',\n",
    "            'price': '#content > div.house-detail > div.topHouseDetail > li > span',\n",
    "            'align': '#content > div.house-detail > div.topHouseDetail > \\\n",
    "div.allHouseCondition > table.allHouseCondition1',\n",
    "            'area': '#content > div.house-detail > div.topHouseDetail > \\\n",
    "div.allHouseCondition > table.allHouseCondition2',\n",
    "            'date_pub': '#content > div.house-detail > div.topHouseDetail > \\\n",
    "div.houseDetail > table',\n",
    "            'date_in': '#content > div.house-detail > \\\n",
    "div.houseRoom > div.houseFromType.checkTime > li.agentWords > span.time',\n",
    "            'source': '#content > div.house-detail > div.houseRoom > div.houseFromType.peoHouseType > div > ul > li',\n",
    "            'detail': '#content > div.house-detail > div.houseRoom > div.houseFromType.rentDetail > li.agentWords'\n",
    "        }\n",
    "        self.en2zh = {\n",
    "            'align': '户型',\n",
    "            'area': '面积'\n",
    "        }\n",
    "        self.pick_from_table = lambda soup, info_type: soup.select(self.selectors[info_type])[0].text.\\\n",
    "replace('\\n', ' ').strip().strip('{}：'.format(en2zh[info_type])).strip()\n",
    "        \n",
    "    def getLocation(self):\n",
    "        if self.flag:\n",
    "            lats = self.webSoup.select(self.selectors['lat'])\n",
    "            lngs = self.webSoup.select(self.selectors['lng'])\n",
    "\n",
    "            lat = float(lats[0].text)\n",
    "            lng = float(lngs[0].text)\n",
    "            \n",
    "            place = {'lat':lat, 'lng':lng}\n",
    "            \n",
    "            self.db['location'].append(near_WhichPivot(place))\n",
    "\n",
    "    def getPrice(self):\n",
    "        if self.flag:\n",
    "            self.db['price'].append(int(self.webSoup.select(self.selectors['price'])[0].text))\n",
    "    \n",
    "    def getAlign(self):\n",
    "        if self.flag:\n",
    "            self.db['align'].append(self.pick_from_table(self.webSoup, 'align'))\n",
    "    \n",
    "    def getArea(self):\n",
    "        if self.flag:\n",
    "            self.db['area'].append(self.pick_from_table(self.webSoup, 'area'))\n",
    "    \n",
    "    def getDate(self):\n",
    "        if self.flag:\n",
    "            #date_pub\n",
    "            taa = self.webSoup.select(selectors['date_pub'])[0].text\n",
    "            pattern_datePub = '(?<=发布：\\n).*?\\n'\n",
    "            gg = re.search(pattern=pattern_datePub, string=taa)\n",
    "            date_pub = gg.group().strip('\\n')\n",
    "\n",
    "            #date_in\n",
    "            date_in = webSoup.select(selectors['date_in'])[0].text\n",
    "\n",
    "            #save date\n",
    "            self.db['date_pub'].append(date_pub)\n",
    "            self.db['date_in'].append(date_in)\n",
    "\n",
    "    def getSource(self):\n",
    "        if self.flag:\n",
    "            source = True if '业主直租' == self.webSoup.select(self.selectors['source'])[0].text else False\n",
    "            self.db['source'].append(source)\n",
    "    \n",
    "    def getDescribe(self):\n",
    "        if self.flag:\n",
    "            detail = self.webSoup.select(self.selectors['detail'])[0].text\n",
    "            self.db['detail'].append(detail)\n",
    "            \n",
    "    def getPayway(self):\n",
    "        if self.flg:\n",
    "            self.db['payway'].append(1)"
   ]
  },
  {
   "cell_type": "code",
   "execution_count": 261,
   "metadata": {
    "collapsed": true
   },
   "outputs": [],
   "source": [
    "url = 'http://www.107room.com/r175543'\n",
    "webRaw = requests.get(url=url)\n",
    "\n",
    "webSoup = bs(webRaw.text, 'lxml')\n",
    "\n",
    "selectors = {\n",
    "    'lat': '#content > div.pointlat',\n",
    "    'lng': '#content > div.pointlng'\n",
    "}\n",
    "lats = webSoup.select(selectors['lat'])\n",
    "lngs = webSoup.select(selectors['lng'])\n",
    "\n",
    "lat = float(lats[0].text)\n",
    "lng = float(lngs[0].text)"
   ]
  },
  {
   "cell_type": "code",
   "execution_count": 262,
   "metadata": {},
   "outputs": [
    {
     "name": "stdout",
     "output_type": "stream",
     "text": [
      "39.942078 116.358257\n"
     ]
    }
   ],
   "source": [
    "print(lat, lng)"
   ]
  },
  {
   "cell_type": "markdown",
   "metadata": {},
   "source": [
    "#### (1.2) 价格、户型、面积\n"
   ]
  },
  {
   "cell_type": "code",
   "execution_count": 296,
   "metadata": {},
   "outputs": [],
   "source": [
    "price = int(webSoup.select('#content > div.house-detail > div.topHouseDetail > li > span')[0].text)\n",
    "\n",
    "selectors['align'] = '#content > div.house-detail > div.topHouseDetail > \\\n",
    "div.allHouseCondition > table.allHouseCondition1'\n",
    "selectors['area'] = '#content > div.house-detail > div.topHouseDetail > \\\n",
    "div.allHouseCondition > table.allHouseCondition2'\n",
    "\n",
    "en2zh = {\n",
    "    'align': '户型',\n",
    "    'area': '面积'\n",
    "}\n",
    "\n",
    "pick_from_table = lambda soup, info_type: soup.select(selectors[info_type])[0].text.\\\n",
    "replace('\\n', ' ').strip().strip('{}：'.format(en2zh[info_type])).strip()\n",
    "\n",
    "align = pick_from_table(webSoup, 'align')\n",
    "area = pick_from_table(webSoup, 'area')"
   ]
  },
  {
   "cell_type": "markdown",
   "metadata": {},
   "source": [
    "#### (1.3) 发布日期、入住时间（如有）\n"
   ]
  },
  {
   "cell_type": "code",
   "execution_count": 317,
   "metadata": {},
   "outputs": [],
   "source": [
    "selectors['date_pub'] = '#content > div.house-detail > div.topHouseDetail > \\\n",
    "div.houseDetail > table'\n",
    "taa = webSoup.select(selectors['date_pub'])[0].text\n",
    "pattern_datePub = '(?<=发布：\\n).*?\\n'\n",
    "gg = re.search(pattern=pattern_datePub, string=taa)\n",
    "date_pub = gg.group().strip('\\n')\n",
    "\n",
    "selectors['date_in'] = '#content > div.house-detail > \\\n",
    "div.houseRoom > div.houseFromType.checkTime > li.agentWords > span.time'\n",
    "date_in = webSoup.select(selectors['date_in'])[0].text"
   ]
  },
  {
   "cell_type": "markdown",
   "metadata": {},
   "source": [
    "#### (1.4) 是否直租、房屋描述\n"
   ]
  },
  {
   "cell_type": "code",
   "execution_count": 326,
   "metadata": {},
   "outputs": [],
   "source": [
    "selectors['source'] = '#content > div.house-detail > div.houseRoom > div.houseFromType.peoHouseType > div > ul > li'\n",
    "source = True if '业主直租' == webSoup.select(selectors['source'])[0].text else False\n",
    "\n",
    "selectors['detail'] = '#content > div.house-detail > div.houseRoom > div.houseFromType.rentDetail > li.agentWords'\n",
    "detail = webSoup.select(selectors['detail'])[0].text"
   ]
  },
  {
   "cell_type": "markdown",
   "metadata": {},
   "source": [
    "#### (1.5) 支付方式（分为 2 类：0（押一付一）；1（押一付三））\n",
    "\n",
    "> 107 间页面上没提供相应信息。虽然号称押一付一，还是不把这当真。默认是押一付三"
   ]
  },
  {
   "cell_type": "code",
   "execution_count": 336,
   "metadata": {
    "collapsed": true
   },
   "outputs": [],
   "source": [
    "#write code above"
   ]
  },
  {
   "cell_type": "markdown",
   "metadata": {},
   "source": [
    "### (2) 赶集网"
   ]
  },
  {
   "cell_type": "code",
   "execution_count": 404,
   "metadata": {
    "collapsed": true
   },
   "outputs": [],
   "source": [
    "class Ganji(HouseSite):\n",
    "    def __str__(self):\n",
    "        return 'Ganji'\n",
    "    \n",
    "    def __init__(self):\n",
    "        self.selectors = {\n",
    "            'price': '#f_detail > div:nth-of-type(5) > div.f-card.f-w1190.f-clear.f-b30 > \\\n",
    "div.card-info.f-fr > div.card-top > ul > li.price > span.num',\n",
    "            'align': '#f_detail > div:nth-of-type(5) > div.f-card.f-w1190.f-clear.f-b30 > \\\n",
    "div.card-info.f-fr > div.card-top > div.fang-info > span:nth-of-type(1)',\n",
    "            'area': '#f_detail > div:nth-of-type(5) > div.f-card.f-w1190.f-clear.f-b30 > \\\n",
    "div.card-info.f-fr > div.card-top > div.fang-info > span:nth-of-type(2)',\n",
    "            'date_pub': '#f_detail > div:nth-of-type(5) > div.f-card.f-w1190.f-clear.f-b30 > \\\n",
    "div.card-info.f-fr > div.card-top > \\\n",
    "div.card-status.f-clear > ul.card-status-left.f-fl > li.date',\n",
    "            'source': '#f_detail > div:nth-of-type(5) > div.f-card.f-w1190.f-clear.f-b30 > \\\n",
    "div.card-info.f-fr > div.card-user > div > div',\n",
    "            'detail': '#js-house-describe > div',\n",
    "            'payway': '#f_detail > div:nth-of-type(5) > div.f-card.f-w1190.f-clear.f-b30 > \\\n",
    "div.card-info.f-fr > div.card-top > ul > li.type'\n",
    "        }\n",
    "        self.en2zh = {\n",
    "            'align': '户型',\n",
    "            'area': '面积'\n",
    "        }\n",
    "        self.pick_from_table = lambda soup, info_type: soup.select(self.selectors[info_type])[0].text.\\\n",
    "replace('\\n', ' ').strip().strip('{}：'.format(en2zh[info_type])).strip()\n",
    "        \n",
    "    def getLocation(self):\n",
    "        if self.flag:\n",
    "            for i in self.webSoup.find_all(class_='map-content'):\n",
    "                tdata = json.loads(i.get('data-ref'))\n",
    "                if 'lnglat' in tdata:\n",
    "                    lnglat = tdata['lnglat'].split(',')\n",
    "                    lng_str = lnglat[0].strip('b')\n",
    "                    lat_str = lnglat[1]\n",
    "\n",
    "            lng = float(lng_str)\n",
    "            lat = float(lat_str)\n",
    "            place = {'lat':lat, 'lng':lng}\n",
    "            \n",
    "            self.db['location'].append(near_WhichPivot(place))\n",
    "\n",
    "    def getPrice(self):\n",
    "        if self.flag:\n",
    "            price = int(self.webSoup.select(self.selectors['price'])[0].text)\n",
    "            self.db['price'].append(price)\n",
    "    \n",
    "    def getAlign(self):\n",
    "        if self.flag:\n",
    "            align = self.webSoup.select(self.selectors['align'])[0].text.strip()\n",
    "            self.db['align'].append(align)\n",
    "    \n",
    "    def getArea(self):\n",
    "        if self.flag:\n",
    "            area = self.webSoup.select(self.selectors['area'])[0].text.strip()\n",
    "            self.db['area'].append(area)\n",
    "    \n",
    "    def getDate(self):\n",
    "        if self.flag:\n",
    "            date_pub = self.webSoup.select(self.selectors['date_pub'])[0].text\n",
    "            date_in = 0\n",
    "            \n",
    "            self.db['date_pub'].append(date_pub)\n",
    "            self.db['date_in'].append(date_in)\n",
    "\n",
    "    def getSource(self):\n",
    "        if self.flag:\n",
    "            source = False if self.webSoup.select(self.selectors['source'])[0].find(clas='company') else True\n",
    "            self.db['source'].append(source)\n",
    "    \n",
    "    def getDescribe(self):\n",
    "        if self.flag:\n",
    "            detail = self.webSoup.select(self.selectors['detail'])[0].text\n",
    "            self.db['detail'].append(detail)\n",
    "            \n",
    "    def getPayway(self):\n",
    "        if self.flag:\n",
    "            payway = self.webSoup.select(self.selectors['payway'])[0].text\n",
    "            self.db['payway'].append(payway)"
   ]
  },
  {
   "cell_type": "code",
   "execution_count": 360,
   "metadata": {
    "collapsed": true
   },
   "outputs": [],
   "source": [
    "url = 'http://bj.ganji.com/fang3/2786741893x.htm?ifid=sameprice_detail_zufang'\n",
    "webRaw = requests.get(url=url)\n",
    "\n",
    "webSoup = bs(webRaw.text, 'lxml')\n",
    "\n"
   ]
  },
  {
   "cell_type": "markdown",
   "metadata": {},
   "source": [
    "#### (1.2) 价格、户型、面积\n"
   ]
  },
  {
   "cell_type": "code",
   "execution_count": 349,
   "metadata": {},
   "outputs": [],
   "source": [
    "selectors['price'] = '#f_detail > div:nth-of-type(5) > div.f-card.f-w1190.f-clear.f-b30 > \\\n",
    "div.card-info.f-fr > div.card-top > ul > li.price > span.num'\n",
    "price = int(webSoup.select(selectors['price'])[0].text)\n",
    "\n",
    "selectors['align'] = '#f_detail > div:nth-of-type(5) > div.f-card.f-w1190.f-clear.f-b30 > \\\n",
    "div.card-info.f-fr > div.card-top > div.fang-info > span:nth-of-type(1)'\n",
    "align = webSoup.select(selectors['align'])[0].text.strip()\n",
    "\n",
    "selectors['area'] = '#f_detail > div:nth-of-type(5) > div.f-card.f-w1190.f-clear.f-b30 > \\\n",
    "div.card-info.f-fr > div.card-top > div.fang-info > span:nth-of-type(2)'\n",
    "area = webSoup.select(selectors['area'])[0].text.strip()\n"
   ]
  },
  {
   "cell_type": "markdown",
   "metadata": {},
   "source": [
    "#### (1.3) 发布日期、入住时间（如有）\n"
   ]
  },
  {
   "cell_type": "code",
   "execution_count": 352,
   "metadata": {},
   "outputs": [],
   "source": [
    "selectors['date_pub'] = '#f_detail > div:nth-of-type(5) > div.f-card.f-w1190.f-clear.f-b30 > \\\n",
    "div.card-info.f-fr > div.card-top > \\\n",
    "div.card-status.f-clear > ul.card-status-left.f-fl > li.date'\n",
    "date_pub = webSoup.select(selectors['date_pub'])[0].text\n",
    "\n",
    "date_in = 0"
   ]
  },
  {
   "cell_type": "markdown",
   "metadata": {},
   "source": [
    "#### (1.4) 是否直租、房屋描述\n"
   ]
  },
  {
   "cell_type": "code",
   "execution_count": 401,
   "metadata": {},
   "outputs": [],
   "source": [
    "selectors['source'] = '#f_detail > div:nth-of-type(5) > div.f-card.f-w1190.f-clear.f-b30 > \\\n",
    "div.card-info.f-fr > div.card-user > div > div'\n",
    "source = False if webSoup.select(selectors['source'])[0].find(clas='company') else True\n",
    "\n",
    "selectors['detail'] = '#js-house-describe > div'\n",
    "detail = webSoup.select(selectors['detail'])[0].text"
   ]
  },
  {
   "cell_type": "markdown",
   "metadata": {},
   "source": [
    "#### (1.5) 支付方式（分为 2 类：0（押一付一）；1（押一付三））"
   ]
  },
  {
   "cell_type": "code",
   "execution_count": 402,
   "metadata": {
    "collapsed": true
   },
   "outputs": [],
   "source": [
    "selectors['payway'] = '#f_detail > div:nth-of-type(5) > div.f-card.f-w1190.f-clear.f-b30 > \\\n",
    "div.card-info.f-fr > div.card-top > ul > li.type'\n",
    "payway = webSoup.select(selectors['payway'])[0].text"
   ]
  },
  {
   "cell_type": "markdown",
   "metadata": {},
   "source": [
    "### (3) 58 同城"
   ]
  },
  {
   "cell_type": "code",
   "execution_count": 404,
   "metadata": {
    "collapsed": true
   },
   "outputs": [],
   "source": [
    "class Ganji(HouseSite):\n",
    "    def __str__(self):\n",
    "        return 'Ganji'\n",
    "    \n",
    "    def __init__(self):\n",
    "        self.selectors = {\n",
    "            'price': '#f_detail > div:nth-of-type(5) > div.f-card.f-w1190.f-clear.f-b30 > \\\n",
    "div.card-info.f-fr > div.card-top > ul > li.price > span.num',\n",
    "            'align': '#f_detail > div:nth-of-type(5) > div.f-card.f-w1190.f-clear.f-b30 > \\\n",
    "div.card-info.f-fr > div.card-top > div.fang-info > span:nth-of-type(1)',\n",
    "            'area': '#f_detail > div:nth-of-type(5) > div.f-card.f-w1190.f-clear.f-b30 > \\\n",
    "div.card-info.f-fr > div.card-top > div.fang-info > span:nth-of-type(2)',\n",
    "            'date_pub': '#f_detail > div:nth-of-type(5) > div.f-card.f-w1190.f-clear.f-b30 > \\\n",
    "div.card-info.f-fr > div.card-top > \\\n",
    "div.card-status.f-clear > ul.card-status-left.f-fl > li.date',\n",
    "            'source': '#f_detail > div:nth-of-type(5) > div.f-card.f-w1190.f-clear.f-b30 > \\\n",
    "div.card-info.f-fr > div.card-user > div > div',\n",
    "            'detail': '#js-house-describe > div',\n",
    "            'payway': '#f_detail > div:nth-of-type(5) > div.f-card.f-w1190.f-clear.f-b30 > \\\n",
    "div.card-info.f-fr > div.card-top > ul > li.type'\n",
    "        }\n",
    "        self.en2zh = {\n",
    "            'align': '户型',\n",
    "            'area': '面积'\n",
    "        }\n",
    "        self.pick_from_table = lambda soup, info_type: soup.select(self.selectors[info_type])[0].text.\\\n",
    "replace('\\n', ' ').strip().strip('{}：'.format(en2zh[info_type])).strip()\n",
    "        \n",
    "    def getLocation(self):\n",
    "        if self.flag:\n",
    "            for i in self.webSoup.find_all('script'):\n",
    "                pattern_lng = \"(?<=baidulon\\\":)\\d+\\.\\d+\"\n",
    "                gg_lng = re.search(pattern=pattern_lng, string=taa.text)\n",
    "                if gg_lng:\n",
    "                    lng_str = gg_lng.group()\n",
    "\n",
    "                pattern_lat = \"(?<=baidulat\\\":)\\d+\\.\\d+\"\n",
    "                gg_lat = re.search(pattern=pattern_lat, string=taa.text)\n",
    "                if gg_lat:\n",
    "                    lat_str = gg_lat.group()\n",
    "\n",
    "            lng = float(lng_str)\n",
    "            lat = float(lat_str)\n",
    "            place = {'lat':lat, 'lng':lng}\n",
    "            \n",
    "            self.db['location'].append(near_WhichPivot(place))\n",
    "\n",
    "    def getPrice(self):\n",
    "        if self.flag:\n",
    "            price = int(self.webSoup.select(self.selectors['price'])[0].text)\n",
    "            self.db['price'].append(price)\n",
    "    \n",
    "    def getAlign(self):\n",
    "        if self.flag:\n",
    "            align = self.webSoup.select(self.selectors['align'])[0].text.strip()\n",
    "            self.db['align'].append(align)\n",
    "    \n",
    "    def getArea(self):\n",
    "        if self.flag:\n",
    "            area = self.webSoup.select(self.selectors['area'])[0].text.strip()\n",
    "            self.db['area'].append(area)\n",
    "    \n",
    "    def getDate(self):\n",
    "        if self.flag:\n",
    "            date_pub = self.webSoup.select(self.selectors['date_pub'])[0].text\n",
    "            date_in = 0\n",
    "            \n",
    "            self.db['date_pub'].append(date_pub)\n",
    "            self.db['date_in'].append(date_in)\n",
    "\n",
    "    def getSource(self):\n",
    "        if self.flag:\n",
    "            source = False if self.webSoup.select(self.selectors['source'])[0].find(clas='company') else True\n",
    "            self.db['source'].append(source)\n",
    "    \n",
    "    def getDescribe(self):\n",
    "        if self.flag:\n",
    "            detail = self.webSoup.select(self.selectors['detail'])[0].text\n",
    "            self.db['detail'].append(detail)\n",
    "            \n",
    "    def getPayway(self):\n",
    "        if self.flag:\n",
    "            payway = self.webSoup.select(self.selectors['payway'])[0].text\n",
    "            self.db['payway'].append(payway)"
   ]
  },
  {
   "cell_type": "code",
   "execution_count": 405,
   "metadata": {
    "collapsed": true
   },
   "outputs": [],
   "source": [
    "url = \"http://bj.58.com/zufang/31051221667882x.shtml\"\n",
    "webRaw = requests.get(url=url)"
   ]
  },
  {
   "cell_type": "code",
   "execution_count": 406,
   "metadata": {
    "collapsed": true
   },
   "outputs": [],
   "source": [
    "webSoup = bs(webRaw.text, 'lxml')"
   ]
  },
  {
   "cell_type": "code",
   "execution_count": 407,
   "metadata": {
    "scrolled": false
   },
   "outputs": [],
   "source": [
    "taa = webSoup.find_all('script')[0]\n",
    "\n",
    "for i in webSoup.find_all('script'):\n",
    "    pattern_lng = \"(?<=baidulon\\\":)\\d+\\.\\d+\"\n",
    "    gg_lng = re.search(pattern=pattern_lng, string=taa.text)\n",
    "    if gg_lng:\n",
    "        lng_str = gg_lng.group()\n",
    "\n",
    "    pattern_lat = \"(?<=baidulat\\\":)\\d+\\.\\d+\"\n",
    "    gg_lat = re.search(pattern=pattern_lat, string=taa.text)\n",
    "    if gg_lat:\n",
    "        lat_str = gg_lat.group()\n",
    "\n",
    "lng = float(lng_str)\n",
    "lat = float(lat_str)"
   ]
  },
  {
   "cell_type": "code",
   "execution_count": 408,
   "metadata": {},
   "outputs": [
    {
     "data": {
      "text/plain": [
       "39.904155"
      ]
     },
     "execution_count": 408,
     "metadata": {},
     "output_type": "execute_result"
    }
   ],
   "source": [
    "lat"
   ]
  },
  {
   "cell_type": "code",
   "execution_count": 409,
   "metadata": {},
   "outputs": [
    {
     "data": {
      "text/plain": [
       "116.369226"
      ]
     },
     "execution_count": 409,
     "metadata": {},
     "output_type": "execute_result"
    }
   ],
   "source": [
    "lng"
   ]
  },
  {
   "cell_type": "markdown",
   "metadata": {},
   "source": [
    "#### (1.2) 价格、户型、面积\n"
   ]
  },
  {
   "cell_type": "code",
   "execution_count": null,
   "metadata": {
    "collapsed": true
   },
   "outputs": [],
   "source": []
  },
  {
   "cell_type": "markdown",
   "metadata": {},
   "source": [
    "#### (1.3) 发布日期、入住时间（如有）\n"
   ]
  },
  {
   "cell_type": "code",
   "execution_count": null,
   "metadata": {
    "collapsed": true
   },
   "outputs": [],
   "source": []
  },
  {
   "cell_type": "markdown",
   "metadata": {},
   "source": [
    "#### (1.4) 是否直租、房屋描述\n"
   ]
  },
  {
   "cell_type": "code",
   "execution_count": null,
   "metadata": {
    "collapsed": true
   },
   "outputs": [],
   "source": []
  },
  {
   "cell_type": "markdown",
   "metadata": {},
   "source": [
    "#### (1.5) 支付方式（分为 2 类：0（押一付一）；1（押一付三））\n",
    "\n",
    "> 107 间页面上没提供相应信息。虽然号称押一付一，还是不把这当真。"
   ]
  },
  {
   "cell_type": "code",
   "execution_count": null,
   "metadata": {
    "collapsed": true
   },
   "outputs": [],
   "source": []
  }
 ],
 "metadata": {
  "kernelspec": {
   "display_name": "Python 3",
   "language": "python",
   "name": "python3"
  },
  "language_info": {
   "codemirror_mode": {
    "name": "ipython",
    "version": 3
   },
   "file_extension": ".py",
   "mimetype": "text/x-python",
   "name": "python",
   "nbconvert_exporter": "python",
   "pygments_lexer": "ipython3",
   "version": "3.6.1"
  }
 },
 "nbformat": 4,
 "nbformat_minor": 2
}
