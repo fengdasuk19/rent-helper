{
 "cells": [
  {
   "cell_type": "code",
   "execution_count": 1,
   "metadata": {
    "collapsed": true
   },
   "outputs": [],
   "source": [
    "import os, re\n",
    "\n",
    "import requests, json\n",
    "from bs4 import BeautifulSoup as bs"
   ]
  },
  {
   "cell_type": "markdown",
   "metadata": {},
   "source": [
    "## 获取起止点距离（后期需要 OO 化）"
   ]
  },
  {
   "cell_type": "code",
   "execution_count": 2,
   "metadata": {
    "collapsed": true
   },
   "outputs": [],
   "source": [
    "keyfile = 'infos/myBaiduAK.txt'\n",
    "with open(keyfile, 'r') as keyf:\n",
    "    myBaiduAK = keyf.read()"
   ]
  },
  {
   "cell_type": "code",
   "execution_count": 3,
   "metadata": {
    "collapsed": true
   },
   "outputs": [],
   "source": [
    "def location_FirstResult(place, region=\"北京\", myBaiduAK=myBaiduAK):\n",
    "        \n",
    "    strSearch = \"http://api.map.baidu.com/place/v2/search?\\\n",
    "query={}&region={}&city_limit=true&output=json&ak={}\".format(\n",
    "        place, region, myBaiduAK)\n",
    "    responseRaw = requests.get(url=strSearch)\n",
    "    results = responseRaw.json()['results']\n",
    "    result  = results[0]['location']\n",
    "    \n",
    "    return result"
   ]
  },
  {
   "cell_type": "code",
   "execution_count": 4,
   "metadata": {
    "collapsed": true
   },
   "outputs": [],
   "source": [
    "def distance_FirstResult(place_begin, place_end, myBaiduAK=myBaiduAK):\n",
    "    getLocs = lambda x: (x['lat'], x['lng'])\n",
    "    lat_origin, lng_origin = getLocs(location_FirstResult(place=place_begin))\n",
    "    lat_destination, lng_destination = getLocs(location_FirstResult(place=place_end))\n",
    "    strRoute = \"http://api.map.baidu.com/routematrix/v2/walking?output=json\\\n",
    "&origins={},{}&destinations={},{}&ak={}\".format(\n",
    "        lat_origin, lng_origin,\n",
    "        lat_destination, lng_destination,\n",
    "        myBaiduAK\n",
    "    )\n",
    "    responseRaw = requests.get(url=strRoute)\n",
    "    results = responseRaw.json()['result']\n",
    "    result = results[0]['distance']['value']\n",
    "    \n",
    "    return result"
   ]
  },
  {
   "cell_type": "code",
   "execution_count": 5,
   "metadata": {
    "collapsed": true
   },
   "outputs": [],
   "source": [
    "ttt = distance_FirstResult(place_begin=\"五道口-地铁站\", place_end=\"清华大学东门\")"
   ]
  },
  {
   "cell_type": "code",
   "execution_count": 6,
   "metadata": {},
   "outputs": [
    {
     "data": {
      "text/plain": [
       "852"
      ]
     },
     "execution_count": 6,
     "metadata": {},
     "output_type": "execute_result"
    }
   ],
   "source": [
    "ttt"
   ]
  },
  {
   "cell_type": "markdown",
   "metadata": {},
   "source": [
    "## 尝试获取网页中的位置座标"
   ]
  },
  {
   "cell_type": "markdown",
   "metadata": {},
   "source": [
    "###  107 间"
   ]
  },
  {
   "cell_type": "code",
   "execution_count": 7,
   "metadata": {
    "collapsed": true
   },
   "outputs": [],
   "source": [
    "url = 'http://www.107room.com/r175543'\n",
    "webRaw = requests.get(url=url)\n",
    "\n",
    "webSoup = bs(webRaw.text, 'lxml')\n",
    "\n",
    "selectors = {\n",
    "    'lat': '#content > div.pointlat',\n",
    "    'lng': '#content > div.pointlng'\n",
    "}\n",
    "lats = webSoup.select(selectors['lat'])\n",
    "lngs = webSoup.select(selectors['lng'])\n",
    "\n",
    "lat = float(lats[0].text)\n",
    "lng = float(lngs[0].text)"
   ]
  },
  {
   "cell_type": "code",
   "execution_count": 84,
   "metadata": {},
   "outputs": [
    {
     "name": "stdout",
     "output_type": "stream",
     "text": [
      "39.942078 116.358257\n"
     ]
    }
   ],
   "source": [
    "print(lat, lng)"
   ]
  },
  {
   "cell_type": "markdown",
   "metadata": {},
   "source": [
    "### 赶集网"
   ]
  },
  {
   "cell_type": "code",
   "execution_count": 85,
   "metadata": {
    "collapsed": true
   },
   "outputs": [],
   "source": [
    "url = 'http://bj.ganji.com/fang1/2822309036x.htm'\n",
    "webRaw = requests.get(url=url)\n",
    "\n",
    "webSoup = bs(webRaw.text, 'lxml')\n",
    "\n"
   ]
  },
  {
   "cell_type": "code",
   "execution_count": 87,
   "metadata": {},
   "outputs": [],
   "source": []
  },
  {
   "cell_type": "code",
   "execution_count": 121,
   "metadata": {},
   "outputs": [],
   "source": [
    "for i in webSoup.find_all(class_='map-content'):\n",
    "    tdata = json.loads(i.get('data-ref'))\n",
    "    if 'lnglat' in tdata:\n",
    "        lnglat = tdata['lnglat'].split(',')\n",
    "        lng_str = lnglat[0].strip('b')\n",
    "        lat_str = lnglat[1]\n",
    "        \n",
    "lng = float(lng_str)\n",
    "lat = float(lat_str)"
   ]
  },
  {
   "cell_type": "code",
   "execution_count": 122,
   "metadata": {},
   "outputs": [
    {
     "data": {
      "text/plain": [
       "116.369226"
      ]
     },
     "execution_count": 122,
     "metadata": {},
     "output_type": "execute_result"
    }
   ],
   "source": [
    "lng"
   ]
  },
  {
   "cell_type": "code",
   "execution_count": 123,
   "metadata": {},
   "outputs": [
    {
     "data": {
      "text/plain": [
       "39.904155"
      ]
     },
     "execution_count": 123,
     "metadata": {},
     "output_type": "execute_result"
    }
   ],
   "source": [
    "lat"
   ]
  },
  {
   "cell_type": "code",
   "execution_count": null,
   "metadata": {
    "collapsed": true
   },
   "outputs": [],
   "source": []
  },
  {
   "cell_type": "code",
   "execution_count": null,
   "metadata": {
    "collapsed": true
   },
   "outputs": [],
   "source": []
  },
  {
   "cell_type": "code",
   "execution_count": null,
   "metadata": {
    "collapsed": true
   },
   "outputs": [],
   "source": []
  },
  {
   "cell_type": "code",
   "execution_count": 68,
   "metadata": {},
   "outputs": [],
   "source": [
    "lat, lng = -1, -1\n",
    "floatPattern = '\\d+(\\.?\\d*)?'\n",
    "for i in webSoup.find_all('div'):\n",
    "    t_lat, t_lng = i.get('pointlat'), i.get('pointlng')\n",
    "    if (lat < 0) and t_lat and (re.match(pattern=floatPattern, string=t_lat)):\n",
    "        lat = float(t_lat)\n",
    "    if (lng < 0) and t_lng and (re.match(pattern=floatPattern, string=t_lng)):\n",
    "        lng = float(t_lng)"
   ]
  },
  {
   "cell_type": "code",
   "execution_count": null,
   "metadata": {
    "collapsed": true
   },
   "outputs": [],
   "source": []
  }
 ],
 "metadata": {
  "kernelspec": {
   "display_name": "Python 3",
   "language": "python",
   "name": "python3"
  },
  "language_info": {
   "codemirror_mode": {
    "name": "ipython",
    "version": 3
   },
   "file_extension": ".py",
   "mimetype": "text/x-python",
   "name": "python",
   "nbconvert_exporter": "python",
   "pygments_lexer": "ipython3",
   "version": "3.6.1"
  }
 },
 "nbformat": 4,
 "nbformat_minor": 2
}
