{
 "cells": [
  {
   "cell_type": "code",
   "execution_count": 1,
   "metadata": {
    "collapsed": true
   },
   "outputs": [],
   "source": [
    "import os, re\n",
    "\n",
    "import requests, json\n",
    "from bs4 import BeautifulSoup as bs\n",
    "\n",
    "import pandas as pd"
   ]
  },
  {
   "cell_type": "markdown",
   "metadata": {},
   "source": [
    "## 获取起止点距离（后期需要 OO 化）"
   ]
  },
  {
   "cell_type": "code",
   "execution_count": 2,
   "metadata": {},
   "outputs": [],
   "source": [
    "os.environ['http_proxy'] = ''\n",
    "os.environ['https_proxy'] = ''\n",
    "os.environ['HTTP_PROXY'] = ''\n",
    "os.environ['HTTPS_PROXY'] = ''"
   ]
  },
  {
   "cell_type": "code",
   "execution_count": 232,
   "metadata": {
    "collapsed": true
   },
   "outputs": [],
   "source": [
    "keyfile = 'infos/myBaiduAK.txt'\n",
    "with open(keyfile, 'r') as keyf:\n",
    "    myBaiduAK = keyf.read()"
   ]
  },
  {
   "cell_type": "code",
   "execution_count": 233,
   "metadata": {
    "collapsed": true
   },
   "outputs": [],
   "source": [
    "def location_FirstResult(place, region=\"北京\", myBaiduAK=myBaiduAK):\n",
    "        \n",
    "    strSearch = \"http://api.map.baidu.com/place/v2/search?\\\n",
    "query={}&region={}&city_limit=true&output=json&ak={}\".format(\n",
    "        place, region, myBaiduAK)\n",
    "    responseRaw = requests.get(url=strSearch)\n",
    "    results = responseRaw.json()['results']\n",
    "    result  = results[0]['location']\n",
    "    \n",
    "    return result"
   ]
  },
  {
   "cell_type": "code",
   "execution_count": 234,
   "metadata": {
    "collapsed": true
   },
   "outputs": [],
   "source": [
    "def distance_FirstResult(place_begin, place_end, myBaiduAK=myBaiduAK):\n",
    "    getLocs = lambda x: (x['lat'], x['lng'])\n",
    "    if type(place_begin) is str:\n",
    "        lat_origin, lng_origin = getLocs(location_FirstResult(place=place_begin))\n",
    "    else:\n",
    "        lat_origin, lng_origin = place_begin['lat'], place_begin['lng']\n",
    "    if type(place_end) is str:\n",
    "        lat_destination, lng_destination = getLocs(location_FirstResult(place=place_end))\n",
    "    else:\n",
    "        lat_destination, lng_destination = place_end['lat'], place_end['lng']\n",
    "    strRoute = \"http://api.map.baidu.com/routematrix/v2/walking?output=json\\\n",
    "&origins={},{}&destinations={},{}&ak={}\".format(\n",
    "        lat_origin, lng_origin,\n",
    "        lat_destination, lng_destination,\n",
    "        myBaiduAK\n",
    "    )\n",
    "    responseRaw = requests.get(url=strRoute)\n",
    "    results = responseRaw.json()['result']\n",
    "    result = results[0]['distance']['value']\n",
    "    \n",
    "    return result"
   ]
  },
  {
   "cell_type": "code",
   "execution_count": 235,
   "metadata": {},
   "outputs": [],
   "source": [
    "ppp = distance_FirstResult(place_begin=\"五道口-地铁站\", place_end=\"清华大学东门\")"
   ]
  },
  {
   "cell_type": "code",
   "execution_count": 236,
   "metadata": {},
   "outputs": [
    {
     "data": {
      "text/plain": [
       "852"
      ]
     },
     "execution_count": 236,
     "metadata": {},
     "output_type": "execute_result"
    }
   ],
   "source": [
    "ttt"
   ]
  },
  {
   "cell_type": "code",
   "execution_count": 221,
   "metadata": {
    "collapsed": true
   },
   "outputs": [],
   "source": [
    "ttt = distance_FirstResult(place_begin=\"五道口-地铁站\", place_end=\"清华大学东门\")"
   ]
  },
  {
   "cell_type": "code",
   "execution_count": 222,
   "metadata": {},
   "outputs": [
    {
     "data": {
      "text/plain": [
       "852"
      ]
     },
     "execution_count": 222,
     "metadata": {},
     "output_type": "execute_result"
    }
   ],
   "source": [
    "ttt"
   ]
  },
  {
   "cell_type": "code",
   "execution_count": 224,
   "metadata": {
    "collapsed": true
   },
   "outputs": [],
   "source": [
    "www = location_FirstResult(place='五道口')"
   ]
  },
  {
   "cell_type": "code",
   "execution_count": 225,
   "metadata": {
    "collapsed": true
   },
   "outputs": [],
   "source": [
    "sss = distance_FirstResult(place_begin=www, place_end=\"清华大学东门\")"
   ]
  },
  {
   "cell_type": "code",
   "execution_count": 226,
   "metadata": {},
   "outputs": [
    {
     "data": {
      "text/plain": [
       "852"
      ]
     },
     "execution_count": 226,
     "metadata": {},
     "output_type": "execute_result"
    }
   ],
   "source": [
    "sss"
   ]
  },
  {
   "cell_type": "markdown",
   "metadata": {},
   "source": [
    "## 尝试获取网页中的位置座标"
   ]
  },
  {
   "cell_type": "code",
   "execution_count": 3,
   "metadata": {
    "collapsed": true
   },
   "outputs": [],
   "source": [
    "os.environ['http_proxy'] = ''\n",
    "os.environ['https_proxy'] = ''\n",
    "os.environ['HTTP_PROXY'] = ''\n",
    "os.environ['HTTPS_PROXY'] = ''"
   ]
  },
  {
   "cell_type": "code",
   "execution_count": 4,
   "metadata": {
    "collapsed": true
   },
   "outputs": [],
   "source": [
    "keyfile = 'infos/myBaiduAK.txt'\n",
    "with open(keyfile, 'r') as keyf:\n",
    "    myBaiduAK = keyf.read()"
   ]
  },
  {
   "cell_type": "code",
   "execution_count": 5,
   "metadata": {
    "collapsed": true
   },
   "outputs": [],
   "source": [
    "def location_FirstResult(place, region=\"北京\", myBaiduAK=myBaiduAK):\n",
    "        \n",
    "    strSearch = \"http://api.map.baidu.com/place/v2/search?\\\n",
    "query={}&region={}&city_limit=true&output=json&ak={}\".format(\n",
    "        place, region, myBaiduAK)\n",
    "    responseRaw = requests.get(url=strSearch)\n",
    "    results = responseRaw.json()['results']\n",
    "    result  = results[0]['location']\n",
    "    \n",
    "    return result"
   ]
  },
  {
   "cell_type": "code",
   "execution_count": 6,
   "metadata": {
    "collapsed": true
   },
   "outputs": [],
   "source": [
    "def distance_FirstResult(place_begin, place_end, myBaiduAK=myBaiduAK):\n",
    "    getLocs = lambda x: (x['lat'], x['lng'])\n",
    "    if type(place_begin) is str:\n",
    "        lat_origin, lng_origin = getLocs(location_FirstResult(place=place_begin))\n",
    "    else:\n",
    "        lat_origin, lng_origin = place_begin['lat'], place_begin['lng']\n",
    "    if type(place_end) is str:\n",
    "        lat_destination, lng_destination = getLocs(location_FirstResult(place=place_end))\n",
    "    else:\n",
    "        lat_destination, lng_destination = place_end['lat'], place_end['lng']\n",
    "    strRoute = \"http://api.map.baidu.com/routematrix/v2/walking?output=json\\\n",
    "&origins={},{}&destinations={},{}&ak={}\".format(\n",
    "        lat_origin, lng_origin,\n",
    "        lat_destination, lng_destination,\n",
    "        myBaiduAK\n",
    "    )\n",
    "    responseRaw = requests.get(url=strRoute)\n",
    "    results = responseRaw.json()['result']\n",
    "    result = results[0]['distance']['value']\n",
    "    \n",
    "    return result"
   ]
  },
  {
   "cell_type": "code",
   "execution_count": 7,
   "metadata": {
    "collapsed": true
   },
   "outputs": [],
   "source": [
    "def near_WhichPivot(place):\n",
    "    pivots = {\n",
    "        '长椿街-地铁站':'c', \n",
    "        '王府井-地铁站':'w', \n",
    "        '西直门-地铁站':'x', \n",
    "        '东直门-地铁站':'d'\n",
    "    }\n",
    "    LIMIT_NEAR = 2000\n",
    "    \n",
    "    for endpoint in pivots.keys():\n",
    "        if distance_FirstResult(place_begin=place, place_end=endpoint) <= LIMIT_NEAR:\n",
    "            return pivots[endpoint]\n",
    "        \n",
    "    # if not near any pivot\n",
    "    return 'q'"
   ]
  },
  {
   "cell_type": "code",
   "execution_count": 8,
   "metadata": {},
   "outputs": [],
   "source": [
    "class HouseSite(object):\n",
    "    def __str__(self):\n",
    "        return 'HouseSite'\n",
    "    \n",
    "    def __init__(self):\n",
    "        self.webSoup = None\n",
    "        self.cols_zh = ['URL', '位置', '价格', '户型', '面积', '发布日期', '入住日期', '详细描述', '个人直租', '支付方式']\n",
    "        self.cols = ['URL', 'location', 'price', 'align', 'area', 'date_pub', 'date_in', 'detail', 'source', 'payway']\n",
    "        self.db = {col:[] for col in self.cols}\n",
    "        self.flag = False\n",
    "        \n",
    "    def save(self):\n",
    "        db = pd.DataFrame(data=self.db, columns=self.cols_zh)\n",
    "        outfile = '{}.csv'.format(self.__name__)\n",
    "        db.to_csv(outfile)\n",
    "        print('Finish output:', outfile)\n",
    "        \n",
    "    def getInfos(self, url):\n",
    "        self.flag = True\n",
    "        self.getDataRaw(url)\n",
    "        self.getLocation()\n",
    "        self.getPrice()\n",
    "        self.getAlign()\n",
    "        self.getArea()\n",
    "        self.getDate()\n",
    "        self.getSource()\n",
    "        self.getDetail()\n",
    "        self.getPayway()\n",
    "        self.flag = False\n",
    "        print('Finish:', url)\n",
    "        \n",
    "    def getDataRaw(self, url):\n",
    "        if self.flag:\n",
    "            webRaw = requests.get(url=url)\n",
    "            self.webSoup = bs(webRaw.text, 'lxml')\n",
    "            \n",
    "    def getLocation(self): \n",
    "        if self.flag:\n",
    "            print('get location')\n",
    "    \n",
    "    def getPrice(self):\n",
    "        if self.flag:\n",
    "            print('get price')\n",
    "    \n",
    "    def getAlign(self):\n",
    "        if self.flag:\n",
    "            print('get align')\n",
    "    \n",
    "    def getArea(self):\n",
    "        if self.flag:\n",
    "            print('get area')\n",
    "    \n",
    "    def getDate(self):\n",
    "        if self.flag:\n",
    "            #date_pub, date_in\n",
    "            print('get date_pub, date_url')\n",
    "    \n",
    "    def getSource(self):\n",
    "        if self.flag:\n",
    "            print('get source')\n",
    "    \n",
    "    def getDetail(self):\n",
    "        if self.flag:\n",
    "            print('get detail')\n",
    "    \n",
    "    def getPayway(self):\n",
    "        if self.flag:\n",
    "            print('get payway')"
   ]
  },
  {
   "cell_type": "markdown",
   "metadata": {},
   "source": [
    "###  (1) 107 间"
   ]
  },
  {
   "cell_type": "markdown",
   "metadata": {},
   "source": [
    "#### (1.1) 抓取位置"
   ]
  },
  {
   "cell_type": "code",
   "execution_count": 9,
   "metadata": {
    "collapsed": true
   },
   "outputs": [],
   "source": [
    "class Room107(HouseSite):\n",
    "    def __str__(self):\n",
    "        return 'Room107'\n",
    "    \n",
    "    def __init__(self):\n",
    "        self.selectors = {\n",
    "            'lat': '#content > div.pointlat',\n",
    "            'lng': '#content > div.pointlng',\n",
    "            'price': '#content > div.house-detail > div.topHouseDetail > li > span',\n",
    "            'align': '#content > div.house-detail > div.topHouseDetail > \\\n",
    "div.allHouseCondition > table.allHouseCondition1',\n",
    "            'area': '#content > div.house-detail > div.topHouseDetail > \\\n",
    "div.allHouseCondition > table.allHouseCondition2',\n",
    "            'date_pub': '#content > div.house-detail > div.topHouseDetail > \\\n",
    "div.houseDetail > table',\n",
    "            'date_in': '#content > div.house-detail > \\\n",
    "div.houseRoom > div.houseFromType.checkTime > li.agentWords > span.time',\n",
    "            'source': '#content > div.house-detail > div.houseRoom > div.houseFromType.peoHouseType > div > ul > li',\n",
    "            'detail': '#content > div.house-detail > div.houseRoom > div.houseFromType.rentDetail > li.agentWords'\n",
    "        }\n",
    "        self.en2zh = {\n",
    "            'align': '户型',\n",
    "            'area': '面积'\n",
    "        }\n",
    "        self.pick_from_table = lambda soup, info_type: soup.select(self.selectors[info_type])[0].text.\\\n",
    "replace('\\n', ' ').strip().strip('{}：'.format(en2zh[info_type])).strip()\n",
    "        \n",
    "    def getLocation(self):\n",
    "        if self.flag:\n",
    "            lats = self.webSoup.select(self.selectors['lat'])\n",
    "            lngs = self.webSoup.select(self.selectors['lng'])\n",
    "\n",
    "            lat = float(lats[0].text)\n",
    "            lng = float(lngs[0].text)\n",
    "            \n",
    "            place = {'lat':lat, 'lng':lng}\n",
    "            \n",
    "            self.db['location'].append(near_WhichPivot(place))\n",
    "\n",
    "    def getPrice(self):\n",
    "        if self.flag:\n",
    "            self.db['price'].append(int(self.webSoup.select(self.selectors['price'])[0].text))\n",
    "    \n",
    "    def getAlign(self):\n",
    "        if self.flag:\n",
    "            self.db['align'].append(self.pick_from_table(self.webSoup, 'align'))\n",
    "    \n",
    "    def getArea(self):\n",
    "        if self.flag:\n",
    "            self.db['area'].append(self.pick_from_table(self.webSoup, 'area'))\n",
    "    \n",
    "    def getDate(self):\n",
    "        if self.flag:\n",
    "            #date_pub\n",
    "            taa = self.webSoup.select(selectors['date_pub'])[0].text\n",
    "            pattern_datePub = '(?<=发布：\\n).*?\\n'\n",
    "            gg = re.search(pattern=pattern_datePub, string=taa)\n",
    "            date_pub = gg.group().strip('\\n')\n",
    "\n",
    "            #date_in\n",
    "            date_in = webSoup.select(selectors['date_in'])[0].text\n",
    "\n",
    "            #save date\n",
    "            self.db['date_pub'].append(date_pub)\n",
    "            self.db['date_in'].append(date_in)\n",
    "\n",
    "    def getSource(self):\n",
    "        if self.flag:\n",
    "            source = True if '业主直租' == self.webSoup.select(self.selectors['source'])[0].text else False\n",
    "            self.db['source'].append(source)\n",
    "    \n",
    "    def getDescribe(self):\n",
    "        if self.flag:\n",
    "            detail = self.webSoup.select(self.selectors['detail'])[0].text\n",
    "            self.db['detail'].append(detail)\n",
    "            \n",
    "    def getPayway(self):\n",
    "        if self.flg:\n",
    "            self.db['payway'].append(1)"
   ]
  },
  {
   "cell_type": "code",
   "execution_count": 261,
   "metadata": {
    "collapsed": true
   },
   "outputs": [],
   "source": [
    "url = 'http://www.107room.com/r175543'\n",
    "webRaw = requests.get(url=url)\n",
    "\n",
    "webSoup = bs(webRaw.text, 'lxml')\n",
    "\n",
    "selectors = {\n",
    "    'lat': '#content > div.pointlat',\n",
    "    'lng': '#content > div.pointlng'\n",
    "}\n",
    "lats = webSoup.select(selectors['lat'])\n",
    "lngs = webSoup.select(selectors['lng'])\n",
    "\n",
    "lat = float(lats[0].text)\n",
    "lng = float(lngs[0].text)"
   ]
  },
  {
   "cell_type": "code",
   "execution_count": 262,
   "metadata": {},
   "outputs": [
    {
     "name": "stdout",
     "output_type": "stream",
     "text": [
      "39.942078 116.358257\n"
     ]
    }
   ],
   "source": [
    "print(lat, lng)"
   ]
  },
  {
   "cell_type": "markdown",
   "metadata": {},
   "source": [
    "#### (1.2) 价格、户型、面积\n"
   ]
  },
  {
   "cell_type": "code",
   "execution_count": 296,
   "metadata": {},
   "outputs": [],
   "source": [
    "price = int(webSoup.select('#content > div.house-detail > div.topHouseDetail > li > span')[0].text)\n",
    "\n",
    "selectors['align'] = '#content > div.house-detail > div.topHouseDetail > \\\n",
    "div.allHouseCondition > table.allHouseCondition1'\n",
    "selectors['area'] = '#content > div.house-detail > div.topHouseDetail > \\\n",
    "div.allHouseCondition > table.allHouseCondition2'\n",
    "\n",
    "en2zh = {\n",
    "    'align': '户型',\n",
    "    'area': '面积'\n",
    "}\n",
    "\n",
    "pick_from_table = lambda soup, info_type: soup.select(selectors[info_type])[0].text.\\\n",
    "replace('\\n', ' ').strip().strip('{}：'.format(en2zh[info_type])).strip()\n",
    "\n",
    "align = pick_from_table(webSoup, 'align')\n",
    "area = pick_from_table(webSoup, 'area')"
   ]
  },
  {
   "cell_type": "markdown",
   "metadata": {},
   "source": [
    "#### (1.3) 发布日期、入住时间（如有）\n"
   ]
  },
  {
   "cell_type": "code",
   "execution_count": 317,
   "metadata": {},
   "outputs": [],
   "source": [
    "selectors['date_pub'] = '#content > div.house-detail > div.topHouseDetail > \\\n",
    "div.houseDetail > table'\n",
    "taa = webSoup.select(selectors['date_pub'])[0].text\n",
    "pattern_datePub = '(?<=发布：\\n).*?\\n'\n",
    "gg = re.search(pattern=pattern_datePub, string=taa)\n",
    "date_pub = gg.group().strip('\\n')\n",
    "\n",
    "selectors['date_in'] = '#content > div.house-detail > \\\n",
    "div.houseRoom > div.houseFromType.checkTime > li.agentWords > span.time'\n",
    "date_in = webSoup.select(selectors['date_in'])[0].text"
   ]
  },
  {
   "cell_type": "markdown",
   "metadata": {},
   "source": [
    "#### (1.4) 是否直租、房屋描述\n"
   ]
  },
  {
   "cell_type": "code",
   "execution_count": 326,
   "metadata": {},
   "outputs": [],
   "source": [
    "selectors['source'] = '#content > div.house-detail > div.houseRoom > div.houseFromType.peoHouseType > div > ul > li'\n",
    "source = True if '业主直租' == webSoup.select(selectors['source'])[0].text else False\n",
    "\n",
    "selectors['detail'] = '#content > div.house-detail > div.houseRoom > div.houseFromType.rentDetail > li.agentWords'\n",
    "detail = webSoup.select(selectors['detail'])[0].text"
   ]
  },
  {
   "cell_type": "markdown",
   "metadata": {},
   "source": [
    "#### (1.5) 支付方式（分为 2 类：0（押一付一）；1（押一付三））\n",
    "\n",
    "> 107 间页面上没提供相应信息。虽然号称押一付一，还是不把这当真。默认是押一付三"
   ]
  },
  {
   "cell_type": "code",
   "execution_count": 336,
   "metadata": {
    "collapsed": true
   },
   "outputs": [],
   "source": [
    "#write code above"
   ]
  },
  {
   "cell_type": "markdown",
   "metadata": {},
   "source": [
    "### (2) 赶集网"
   ]
  },
  {
   "cell_type": "code",
   "execution_count": 10,
   "metadata": {
    "collapsed": true
   },
   "outputs": [],
   "source": [
    "class Ganji(HouseSite):\n",
    "    def __str__(self):\n",
    "        return 'Ganji'\n",
    "    \n",
    "    def __init__(self):\n",
    "        self.selectors = {\n",
    "            'price': '#f_detail > div:nth-of-type(5) > div.f-card.f-w1190.f-clear.f-b30 > \\\n",
    "div.card-info.f-fr > div.card-top > ul > li.price > span.num',\n",
    "            'align': '#f_detail > div:nth-of-type(5) > div.f-card.f-w1190.f-clear.f-b30 > \\\n",
    "div.card-info.f-fr > div.card-top > div.fang-info > span:nth-of-type(1)',\n",
    "            'area': '#f_detail > div:nth-of-type(5) > div.f-card.f-w1190.f-clear.f-b30 > \\\n",
    "div.card-info.f-fr > div.card-top > div.fang-info > span:nth-of-type(2)',\n",
    "            'date_pub': '#f_detail > div:nth-of-type(5) > div.f-card.f-w1190.f-clear.f-b30 > \\\n",
    "div.card-info.f-fr > div.card-top > \\\n",
    "div.card-status.f-clear > ul.card-status-left.f-fl > li.date',\n",
    "            'source': '#f_detail > div:nth-of-type(5) > div.f-card.f-w1190.f-clear.f-b30 > \\\n",
    "div.card-info.f-fr > div.card-user > div > div',\n",
    "            'detail': '#js-house-describe > div',\n",
    "            'payway': '#f_detail > div:nth-of-type(5) > div.f-card.f-w1190.f-clear.f-b30 > \\\n",
    "div.card-info.f-fr > div.card-top > ul > li.type'\n",
    "        }\n",
    "        \n",
    "    def getLocation(self):\n",
    "        if self.flag:\n",
    "            for i in self.webSoup.find_all(class_='map-content'):\n",
    "                tdata = json.loads(i.get('data-ref'))\n",
    "                if 'lnglat' in tdata:\n",
    "                    lnglat = tdata['lnglat'].split(',')\n",
    "                    lng_str = lnglat[0].strip('b')\n",
    "                    lat_str = lnglat[1]\n",
    "\n",
    "            lng = float(lng_str)\n",
    "            lat = float(lat_str)\n",
    "            place = {'lat':lat, 'lng':lng}\n",
    "            \n",
    "            self.db['location'].append(near_WhichPivot(place))\n",
    "\n",
    "    def getPrice(self):\n",
    "        if self.flag:\n",
    "            price = int(self.webSoup.select(self.selectors['price'])[0].text)\n",
    "            self.db['price'].append(price)\n",
    "    \n",
    "    def getAlign(self):\n",
    "        if self.flag:\n",
    "            align = self.webSoup.select(self.selectors['align'])[0].text.strip()\n",
    "            self.db['align'].append(align)\n",
    "    \n",
    "    def getArea(self):\n",
    "        if self.flag:\n",
    "            area = self.webSoup.select(self.selectors['area'])[0].text.strip()\n",
    "            self.db['area'].append(area)\n",
    "    \n",
    "    def getDate(self):\n",
    "        if self.flag:\n",
    "            date_pub = self.webSoup.select(self.selectors['date_pub'])[0].text\n",
    "            date_in = 0\n",
    "            \n",
    "            self.db['date_pub'].append(date_pub)\n",
    "            self.db['date_in'].append(date_in)\n",
    "\n",
    "    def getSource(self):\n",
    "        if self.flag:\n",
    "            source = False if self.webSoup.select(self.selectors['source'])[0].find(clas='company') else True\n",
    "            self.db['source'].append(source)\n",
    "    \n",
    "    def getDescribe(self):\n",
    "        if self.flag:\n",
    "            detail = self.webSoup.select(self.selectors['detail'])[0].text\n",
    "            self.db['detail'].append(detail)\n",
    "            \n",
    "    def getPayway(self):\n",
    "        if self.flag:\n",
    "            payway = self.webSoup.select(self.selectors['payway'])[0].text\n",
    "            self.db['payway'].append(payway)"
   ]
  },
  {
   "cell_type": "code",
   "execution_count": 360,
   "metadata": {
    "collapsed": true
   },
   "outputs": [],
   "source": [
    "url = 'http://bj.ganji.com/fang3/2786741893x.htm?ifid=sameprice_detail_zufang'\n",
    "webRaw = requests.get(url=url)\n",
    "\n",
    "webSoup = bs(webRaw.text, 'lxml')\n",
    "\n"
   ]
  },
  {
   "cell_type": "markdown",
   "metadata": {},
   "source": [
    "#### (1.2) 价格、户型、面积\n"
   ]
  },
  {
   "cell_type": "code",
   "execution_count": 349,
   "metadata": {},
   "outputs": [],
   "source": [
    "selectors['price'] = '#f_detail > div:nth-of-type(5) > div.f-card.f-w1190.f-clear.f-b30 > \\\n",
    "div.card-info.f-fr > div.card-top > ul > li.price > span.num'\n",
    "price = int(webSoup.select(selectors['price'])[0].text)\n",
    "\n",
    "selectors['align'] = '#f_detail > div:nth-of-type(5) > div.f-card.f-w1190.f-clear.f-b30 > \\\n",
    "div.card-info.f-fr > div.card-top > div.fang-info > span:nth-of-type(1)'\n",
    "align = webSoup.select(selectors['align'])[0].text.strip()\n",
    "\n",
    "selectors['area'] = '#f_detail > div:nth-of-type(5) > div.f-card.f-w1190.f-clear.f-b30 > \\\n",
    "div.card-info.f-fr > div.card-top > div.fang-info > span:nth-of-type(2)'\n",
    "area = webSoup.select(selectors['area'])[0].text.strip()\n"
   ]
  },
  {
   "cell_type": "markdown",
   "metadata": {},
   "source": [
    "#### (1.3) 发布日期、入住时间（如有）\n"
   ]
  },
  {
   "cell_type": "code",
   "execution_count": 352,
   "metadata": {},
   "outputs": [],
   "source": [
    "selectors['date_pub'] = '#f_detail > div:nth-of-type(5) > div.f-card.f-w1190.f-clear.f-b30 > \\\n",
    "div.card-info.f-fr > div.card-top > \\\n",
    "div.card-status.f-clear > ul.card-status-left.f-fl > li.date'\n",
    "date_pub = webSoup.select(selectors['date_pub'])[0].text\n",
    "\n",
    "date_in = 0"
   ]
  },
  {
   "cell_type": "markdown",
   "metadata": {},
   "source": [
    "#### (1.4) 是否直租、房屋描述\n"
   ]
  },
  {
   "cell_type": "code",
   "execution_count": 401,
   "metadata": {},
   "outputs": [],
   "source": [
    "selectors['source'] = '#f_detail > div:nth-of-type(5) > div.f-card.f-w1190.f-clear.f-b30 > \\\n",
    "div.card-info.f-fr > div.card-user > div > div'\n",
    "source = False if webSoup.select(selectors['source'])[0].find(clas='company') else True\n",
    "\n",
    "selectors['detail'] = '#js-house-describe > div'\n",
    "detail = webSoup.select(selectors['detail'])[0].text"
   ]
  },
  {
   "cell_type": "markdown",
   "metadata": {},
   "source": [
    "#### (1.5) 支付方式（分为 2 类：0（押一付一）；1（押一付三））"
   ]
  },
  {
   "cell_type": "code",
   "execution_count": 402,
   "metadata": {
    "collapsed": true
   },
   "outputs": [],
   "source": [
    "selectors['payway'] = '#f_detail > div:nth-of-type(5) > div.f-card.f-w1190.f-clear.f-b30 > \\\n",
    "div.card-info.f-fr > div.card-top > ul > li.type'\n",
    "payway = webSoup.select(selectors['payway'])[0].text"
   ]
  },
  {
   "cell_type": "markdown",
   "metadata": {},
   "source": [
    "### (3) 58 同城"
   ]
  },
  {
   "cell_type": "code",
   "execution_count": 13,
   "metadata": {
    "collapsed": true
   },
   "outputs": [],
   "source": [
    "class Tongcheng58(HouseSite):\n",
    "    def __str__(self):\n",
    "        return 'Tongcheng58'\n",
    "    \n",
    "    def __init__(self):\n",
    "        self.selectors = {\n",
    "            'price': 'body > div.main-wrap > div.house-basic-info > div.house-basic-right.fr \\\n",
    "> div.house-basic-desc > div.house-desc-item.fl.c_333 > div > span.c_ff552e > b',\n",
    "            'align': 'body > div.main-wrap > div.house-basic-info > div.house-basic-right.fr > \\\n",
    "div.house-basic-desc > div.house-desc-item.fl.c_333 > ul > li:nth-of-type(2) > span:nth-of-type(2)',\n",
    "            'date_pub': 'body > div.main-wrap > div.house-title > p',\n",
    "            'source': 'body > div.main-wrap > div.house-basic-info > div.house-basic-right.fr',\n",
    "            'detail': 'body > div.main-wrap > div.house-detail-desc > div.main-detail-info.fl \\\n",
    "> div.house-word-introduce.f16.c_555 > ul > li:nth-of-type(2) > span.a2',\n",
    "            'payway': 'body > div.main-wrap > div.house-basic-info > div.house-basic-right.fr > \\\n",
    "div.house-basic-desc > div.house-desc-item.fl.c_333 > div > span.c_333'\n",
    "        }\n",
    "        \n",
    "    def getInfos(self, url):\n",
    "        self.flag = True\n",
    "        self.getDataRaw(url)\n",
    "        self.getLocation()\n",
    "        self.getPrice()\n",
    "        self.getAlignArea()\n",
    "        self.getDate()\n",
    "        self.getSource()\n",
    "        self.getDetail()\n",
    "        self.getPayway()\n",
    "        self.flag = False\n",
    "        print('Finish:', url)\n",
    "        \n",
    "    def getLocation(self):\n",
    "        if self.flag:\n",
    "            for i in self.webSoup.find_all('script'):\n",
    "                pattern_lng = \"(?<=baidulon\\\":)\\d+\\.\\d+\"\n",
    "                gg_lng = re.search(pattern=pattern_lng, string=taa.text)\n",
    "                if gg_lng:\n",
    "                    lng_str = gg_lng.group()\n",
    "\n",
    "                pattern_lat = \"(?<=baidulat\\\":)\\d+\\.\\d+\"\n",
    "                gg_lat = re.search(pattern=pattern_lat, string=taa.text)\n",
    "                if gg_lat:\n",
    "                    lat_str = gg_lat.group()\n",
    "\n",
    "            lng = float(lng_str)\n",
    "            lat = float(lat_str)\n",
    "            place = {'lat':lat, 'lng':lng}\n",
    "            \n",
    "            self.db['location'].append(near_WhichPivot(place))\n",
    "\n",
    "    def getPrice(self):\n",
    "        if self.flag:\n",
    "            price = int(self.webSoup.select(self.selectors['price'])[0].text)\n",
    "            self.db['price'].append(price)\n",
    "    \n",
    "    def getAlignArea(self):\n",
    "        if self.flag:\n",
    "            align_area = webSoup.select(selectors['align'])[0].text\n",
    "            align_area = re.sub(pattern='\\s+', repl=' ', string=align_area)\n",
    "\n",
    "            pattern_align = '.*? '\n",
    "            gg = re.search(pattern=pattern_align, string=align_area)\n",
    "            align = gg.group()\n",
    "            \n",
    "            pattern_area = '.*平 '\n",
    "            gg = re.search(pattern=pattern_area, string=align_area.strip(align))\n",
    "            area = gg.group()\n",
    "            \n",
    "            self.db['align'].append(align)\n",
    "            self.db['area'].append(area)\n",
    "    \n",
    "    def getDate(self):\n",
    "        if self.flag:\n",
    "            date_pub = self.webSoup.select(self.selectors['date_pub'])[0].text\n",
    "            date_pub = re.sub(pattern='\\s+', repl=' ', string=date_pub)\n",
    "            date_pub = re.search(pattern='(.*) (?=\\d 次)', string=date_pub).group(0)\n",
    "            date_in = 0\n",
    "            \n",
    "            self.db['date_pub'].append(date_pub)\n",
    "            self.db['date_in'].append(date_in)\n",
    "\n",
    "    def getSource(self):\n",
    "        if self.flag:\n",
    "            source = True if self.webSoup.select(self.selectors['source'])[0].find(id='single') else False\n",
    "            self.db['source'].append(source)\n",
    "\n",
    "    def getDescribe(self):\n",
    "        if self.flag:\n",
    "            detail = self.webSoup.select(self.selectors['detail'])[0].text\n",
    "            self.db['detail'].append(detail)\n",
    "            \n",
    "    def getPayway(self):\n",
    "        if self.flag:\n",
    "            payway = self.webSoup.select(self.selectors['payway'])[0].text\n",
    "            self.db['payway'].append(payway)"
   ]
  },
  {
   "cell_type": "code",
   "execution_count": 462,
   "metadata": {
    "collapsed": true
   },
   "outputs": [],
   "source": [
    "url = \"http://bj.58.com/zufang/31139948286413x.shtml\"\n",
    "webRaw = requests.get(url=url)"
   ]
  },
  {
   "cell_type": "code",
   "execution_count": 463,
   "metadata": {
    "collapsed": true
   },
   "outputs": [],
   "source": [
    "webSoup = bs(webRaw.text, 'lxml')"
   ]
  },
  {
   "cell_type": "code",
   "execution_count": 464,
   "metadata": {
    "scrolled": false
   },
   "outputs": [],
   "source": [
    "taa = webSoup.find_all('script')[0]\n",
    "\n",
    "for i in webSoup.find_all('script'):\n",
    "    pattern_lng = \"(?<=baidulon\\\":)\\d+\\.\\d+\"\n",
    "    gg_lng = re.search(pattern=pattern_lng, string=taa.text)\n",
    "    if gg_lng:\n",
    "        lng_str = gg_lng.group()\n",
    "\n",
    "    pattern_lat = \"(?<=baidulat\\\":)\\d+\\.\\d+\"\n",
    "    gg_lat = re.search(pattern=pattern_lat, string=taa.text)\n",
    "    if gg_lat:\n",
    "        lat_str = gg_lat.group()\n",
    "\n",
    "lng = float(lng_str)\n",
    "lat = float(lat_str)"
   ]
  },
  {
   "cell_type": "code",
   "execution_count": 465,
   "metadata": {},
   "outputs": [
    {
     "data": {
      "text/plain": [
       "39.89213791"
      ]
     },
     "execution_count": 465,
     "metadata": {},
     "output_type": "execute_result"
    }
   ],
   "source": [
    "lat"
   ]
  },
  {
   "cell_type": "code",
   "execution_count": 466,
   "metadata": {},
   "outputs": [
    {
     "data": {
      "text/plain": [
       "116.3667826"
      ]
     },
     "execution_count": 466,
     "metadata": {},
     "output_type": "execute_result"
    }
   ],
   "source": [
    "lng"
   ]
  },
  {
   "cell_type": "markdown",
   "metadata": {},
   "source": [
    "#### (1.2) 价格、户型、面积\n"
   ]
  },
  {
   "cell_type": "code",
   "execution_count": 420,
   "metadata": {
    "collapsed": true
   },
   "outputs": [],
   "source": [
    "taa = webSoup.select(selectors['align'])[0].text"
   ]
  },
  {
   "cell_type": "code",
   "execution_count": 425,
   "metadata": {},
   "outputs": [],
   "source": [
    "selectors['price'] = 'body > div.main-wrap > div.house-basic-info > div.house-basic-right.fr \\\n",
    "> div.house-basic-desc > div.house-desc-item.fl.c_333 > div > span.c_ff552e > b'\n",
    "price = int(webSoup.select(selectors['price'])[0].text)\n",
    "\n",
    "selectors['align'] = 'body > div.main-wrap > div.house-basic-info > div.house-basic-right.fr > \\\n",
    "div.house-basic-desc > div.house-desc-item.fl.c_333 > ul > li:nth-of-type(2) > span:nth-of-type(2)'\n",
    "taa = webSoup.select(selectors['align'])[0].text\n",
    "taa = re.sub(pattern='\\s+', repl=' ', string=taa)\n",
    "\n",
    "pattern_align = '.*? '\n",
    "gg = re.search(pattern=pattern_align, string=taa)\n",
    "align = gg.group()\n",
    "\n",
    "pattern_area = '.*平 '\n",
    "gg = re.search(pattern=pattern_area, string=taa.strip(align))\n",
    "area = gg.group()"
   ]
  },
  {
   "cell_type": "markdown",
   "metadata": {},
   "source": [
    "#### (1.3) 发布日期、入住时间（如有）\n"
   ]
  },
  {
   "cell_type": "code",
   "execution_count": 438,
   "metadata": {},
   "outputs": [],
   "source": [
    "selectors['date_pub'] = 'body > div.main-wrap > div.house-title > p'\n",
    "date_pub = webSoup.select(selectors['date_pub'])[0].text\n",
    "date_pub = re.sub(pattern='\\s+', repl=' ', string=date_pub)\n",
    "date_pub = re.search(pattern='(.*) (?=\\d 次)', string=date_pub).group(0)\n",
    "\n",
    "date_in = 0"
   ]
  },
  {
   "cell_type": "markdown",
   "metadata": {},
   "source": [
    "#### (1.4) 是否直租、房屋描述\n"
   ]
  },
  {
   "cell_type": "code",
   "execution_count": 470,
   "metadata": {},
   "outputs": [],
   "source": [
    "selectors['source'] = 'body > div.main-wrap > div.house-basic-info > div.house-basic-right.fr'\n",
    "source = webSoup.select(selectors['source'])[0]\n",
    "source = True if source.find_all(id='single') else False\n",
    "\n",
    "selectors['detail'] = 'body > div.main-wrap > div.house-detail-desc > div.main-detail-info.fl \\\n",
    "> div.house-word-introduce.f16.c_555 > ul > li:nth-of-type(2) > span.a2'\n",
    "detail = webSoup.select(selectors['detail'])[0].text"
   ]
  },
  {
   "cell_type": "markdown",
   "metadata": {},
   "source": [
    "#### (1.5) 支付方式（分为 2 类：0（押一付一）；1（押一付三））\n",
    "\n",
    "> 107 间页面上没提供相应信息。虽然号称押一付一，还是不把这当真。"
   ]
  },
  {
   "cell_type": "code",
   "execution_count": 412,
   "metadata": {
    "collapsed": true
   },
   "outputs": [],
   "source": [
    "selectors['payway'] = 'body > div.main-wrap > div.house-basic-info > div.house-basic-right.fr > \\\n",
    "div.house-basic-desc > div.house-desc-item.fl.c_333 > div > span.c_333'\n",
    "payway = webSoup.select(selectors['payway'])[0].text"
   ]
  },
  {
   "cell_type": "code",
   "execution_count": null,
   "metadata": {
    "collapsed": true
   },
   "outputs": [],
   "source": []
  },
  {
   "cell_type": "markdown",
   "metadata": {},
   "source": [
    "## 读取文件并开始爬取与分析"
   ]
  },
  {
   "cell_type": "code",
   "execution_count": 14,
   "metadata": {
    "collapsed": true
   },
   "outputs": [],
   "source": [
    "import os, re, time,random\n",
    "\n",
    "import requests, json\n",
    "from bs4 import BeautifulSoup as bs\n",
    "\n",
    "import pandas as pd"
   ]
  },
  {
   "cell_type": "code",
   "execution_count": 15,
   "metadata": {
    "collapsed": true
   },
   "outputs": [],
   "source": [
    "os.environ['http_proxy'] = ''\n",
    "os.environ['https_proxy'] = ''\n",
    "os.environ['HTTP_PROXY'] = ''\n",
    "os.environ['HTTPS_PROXY'] = ''"
   ]
  },
  {
   "cell_type": "code",
   "execution_count": null,
   "metadata": {
    "collapsed": true
   },
   "outputs": [],
   "source": []
  },
  {
   "cell_type": "code",
   "execution_count": 16,
   "metadata": {
    "collapsed": true
   },
   "outputs": [],
   "source": [
    "def location_FirstResult(place, region=\"北京\", myBaiduAK=myBaiduAK):\n",
    "        \n",
    "    strSearch = \"http://api.map.baidu.com/place/v2/search?\\\n",
    "query={}&region={}&city_limit=true&output=json&ak={}\".format(\n",
    "        place, region, myBaiduAK)\n",
    "    responseRaw = requests.get(url=strSearch)\n",
    "    results = responseRaw.json()['results']\n",
    "    result  = results[0]['location']\n",
    "    \n",
    "    return result"
   ]
  },
  {
   "cell_type": "code",
   "execution_count": 17,
   "metadata": {
    "collapsed": true
   },
   "outputs": [],
   "source": [
    "def distance_FirstResult(place_begin, place_end, myBaiduAK=myBaiduAK):\n",
    "    getLocs = lambda x: (x['lat'], x['lng'])\n",
    "    if type(place_begin) is str:\n",
    "        lat_origin, lng_origin = getLocs(location_FirstResult(place=place_begin))\n",
    "    else:\n",
    "        lat_origin, lng_origin = place_begin['lat'], place_begin['lng']\n",
    "    if type(place_end) is str:\n",
    "        lat_destination, lng_destination = getLocs(location_FirstResult(place=place_end))\n",
    "    else:\n",
    "        lat_destination, lng_destination = place_end['lat'], place_end['lng']\n",
    "    strRoute = \"http://api.map.baidu.com/routematrix/v2/walking?output=json\\\n",
    "&origins={},{}&destinations={},{}&ak={}\".format(\n",
    "        lat_origin, lng_origin,\n",
    "        lat_destination, lng_destination,\n",
    "        myBaiduAK\n",
    "    )\n",
    "    responseRaw = requests.get(url=strRoute)\n",
    "    results = responseRaw.json()['result']\n",
    "    result = results[0]['distance']['value']\n",
    "    \n",
    "    return result"
   ]
  },
  {
   "cell_type": "code",
   "execution_count": 18,
   "metadata": {
    "collapsed": true
   },
   "outputs": [],
   "source": [
    "def near_WhichPivot(place):\n",
    "    pivots = {\n",
    "        '长椿街-地铁站':'c', \n",
    "        '王府井-地铁站':'w', \n",
    "        '西直门-地铁站':'x', \n",
    "        '东直门-地铁站':'d'\n",
    "    }\n",
    "    LIMIT_NEAR = 2000\n",
    "    \n",
    "    for endpoint in pivots.keys():\n",
    "        if distance_FirstResult(place_begin=place, place_end=endpoint) <= LIMIT_NEAR:\n",
    "            return pivots[endpoint]\n",
    "        \n",
    "    # if not near any pivot\n",
    "    return 'q'"
   ]
  },
  {
   "cell_type": "code",
   "execution_count": null,
   "metadata": {
    "collapsed": true
   },
   "outputs": [],
   "source": []
  },
  {
   "cell_type": "code",
   "execution_count": 74,
   "metadata": {
    "collapsed": true
   },
   "outputs": [],
   "source": [
    "class HouseSite(object):\n",
    "    def __str__(self):\n",
    "        return 'HouseSite'\n",
    "    \n",
    "    def __init__(self):\n",
    "        self.webSoup = None\n",
    "        self.cols_zh = ['URL', '位置', '价格', '户型', '面积', '发布日期', '入住日期', '详细描述', '个人直租', '支付方式']\n",
    "        self.cols = ['URL', 'location', 'price', 'align', 'area', 'date_pub', 'date_in', 'detail', 'source', 'payway']\n",
    "        self.db = {col:[] for col in self.cols}\n",
    "        self.flag = False\n",
    "        \n",
    "    def save(self):\n",
    "        db = pd.DataFrame(data=self.db, columns=self.cols_zh)\n",
    "        outfile = '{}.csv'.format(self.__name__)\n",
    "        db.to_csv(outfile)\n",
    "        print('Finish output:', outfile)\n",
    "        \n",
    "    def getInfos(self, url):\n",
    "        print('Start:', url)\n",
    "        self.flag = True\n",
    "        self.getDataRaw(url)\n",
    "        self.getLocation()\n",
    "        self.getPrice()\n",
    "        self.getAlign()\n",
    "        self.getArea()\n",
    "        self.getDate()\n",
    "        self.getSource()\n",
    "        self.getDetail()\n",
    "        self.getPayway()\n",
    "        self.flag = False\n",
    "        print('Finish:', url)\n",
    "        \n",
    "    def getDataRaw(self, url):\n",
    "        if self.flag:\n",
    "            webRaw = requests.get(url=url)\n",
    "            self.webSoup = bs(webRaw.text, 'lxml')\n",
    "            self.db['URL'].append(url)\n",
    "            \n",
    "    def getLocation(self): \n",
    "        if self.flag:\n",
    "            print('get location')\n",
    "    \n",
    "    def getPrice(self):\n",
    "        if self.flag:\n",
    "            print('get price')\n",
    "    \n",
    "    def getAlign(self):\n",
    "        if self.flag:\n",
    "            print('get align')\n",
    "    \n",
    "    def getArea(self):\n",
    "        if self.flag:\n",
    "            print('get area')\n",
    "    \n",
    "    def getDate(self):\n",
    "        if self.flag:\n",
    "            #date_pub, date_in\n",
    "            print('get date_pub, date_url')\n",
    "    \n",
    "    def getSource(self):\n",
    "        if self.flag:\n",
    "            print('get source')\n",
    "    \n",
    "    def getDetail(self):\n",
    "        if self.flag:\n",
    "            print('get detail')\n",
    "    \n",
    "    def getPayway(self):\n",
    "        if self.flag:\n",
    "            print('get payway')"
   ]
  },
  {
   "cell_type": "code",
   "execution_count": null,
   "metadata": {
    "collapsed": true
   },
   "outputs": [],
   "source": []
  },
  {
   "cell_type": "code",
   "execution_count": 89,
   "metadata": {},
   "outputs": [],
   "source": [
    "class Room107(HouseSite):\n",
    "    def __str__(self):\n",
    "        return 'Room107'\n",
    "    \n",
    "    def __init__(self):\n",
    "        super(Room107, self).__init__()\n",
    "        self.selectors = {\n",
    "            'lat': '#content > div.pointlat',\n",
    "            'lng': '#content > div.pointlng',\n",
    "            'price': '#content > div.house-detail > div.topHouseDetail > li > span',\n",
    "            'align': '#content > div.house-detail > div.topHouseDetail > \\\n",
    "div.allHouseCondition > table.allHouseCondition1',\n",
    "            'area': '#content > div.house-detail > div.topHouseDetail > \\\n",
    "div.allHouseCondition > table.allHouseCondition2',\n",
    "            'date_pub': '#content > div.house-detail > div.topHouseDetail > \\\n",
    "div.houseDetail > table',\n",
    "            'date_in': '#content > div.house-detail > \\\n",
    "div.houseRoom > div.houseFromType.checkTime > li.agentWords > span.time',\n",
    "            'source': '#content > div.house-detail > div.houseRoom > div.houseFromType.peoHouseType > div > ul > li',\n",
    "            'detail': '#content > div.house-detail > div.houseRoom > div.houseFromType.rentDetail > li.agentWords'\n",
    "        }\n",
    "        self.en2zh = {\n",
    "            'align': '户型',\n",
    "            'area': '面积'\n",
    "        }\n",
    "        self.pick_from_table = lambda soup, info_type: soup.select(self.selectors[info_type])[0].text.\\\n",
    "replace('\\n', ' ').strip().strip('{}：'.format(self.en2zh[info_type])).strip()\n",
    "        \n",
    "    def getLocation(self):\n",
    "        if self.flag:\n",
    "            lats = self.webSoup.select(self.selectors['lat'])\n",
    "            lngs = self.webSoup.select(self.selectors['lng'])\n",
    "\n",
    "            lat = float(lats[0].text)\n",
    "            lng = float(lngs[0].text)\n",
    "            \n",
    "            place = {'lat':lat, 'lng':lng}\n",
    "            \n",
    "            self.db['location'].append(near_WhichPivot(place))\n",
    "\n",
    "    def getPrice(self):\n",
    "        if self.flag:\n",
    "            self.db['price'].append(int(self.webSoup.select(self.selectors['price'])[0].text))\n",
    "    \n",
    "    def getAlign(self):\n",
    "        if self.flag:\n",
    "            self.db['align'].append(self.pick_from_table(self.webSoup, 'align'))\n",
    "    \n",
    "    def getArea(self):\n",
    "        if self.flag:\n",
    "            self.db['area'].append(self.pick_from_table(self.webSoup, 'area'))\n",
    "    \n",
    "    def getDate(self):\n",
    "        if self.flag:\n",
    "            #date_pub\n",
    "            taa = self.webSoup.select(self.selectors['date_pub'])[0].text\n",
    "            pattern_datePub = '(?<=发布：\\n).*?\\n'\n",
    "            gg = re.search(pattern=pattern_datePub, string=taa)\n",
    "            date_pub = gg.group().strip('\\n')\n",
    "\n",
    "            #date_in\n",
    "            date_in = self.webSoup.select(self.selectors['date_in'])\n",
    "            if len(date_in) > 0:\n",
    "                date_in = date_in[0].text\n",
    "            else:\n",
    "                date_in = 0\n",
    "\n",
    "            #save date\n",
    "            self.db['date_pub'].append(date_pub)\n",
    "            self.db['date_in'].append(date_in)\n",
    "\n",
    "    def getSource(self):\n",
    "        if self.flag:\n",
    "            source = True if '业主直租' == self.webSoup.select(self.selectors['source'])[0].text else False\n",
    "            self.db['source'].append(source)\n",
    "    \n",
    "    def getDetail(self):\n",
    "        if self.flag:\n",
    "            detail = self.webSoup.select(self.selectors['detail'])[0].text\n",
    "            self.db['detail'].append(detail)\n",
    "            \n",
    "    def getPayway(self):\n",
    "        if self.flag:\n",
    "            self.db['payway'].append(1)"
   ]
  },
  {
   "cell_type": "code",
   "execution_count": 90,
   "metadata": {},
   "outputs": [],
   "source": [
    "nn = Room107()"
   ]
  },
  {
   "cell_type": "code",
   "execution_count": 91,
   "metadata": {},
   "outputs": [
    {
     "name": "stdout",
     "output_type": "stream",
     "text": [
      "Start: http://www.107room.com/r353057\n",
      "Finish: http://www.107room.com/r353057\n"
     ]
    }
   ],
   "source": [
    "url = 'http://www.107room.com/r353057'\n",
    "nn.getInfos(url)"
   ]
  },
  {
   "cell_type": "code",
   "execution_count": 92,
   "metadata": {},
   "outputs": [
    {
     "data": {
      "text/plain": [
       "{'URL': ['http://www.107room.com/r353057'],\n",
       " 'align': ['2室 1厅 1厨 1卫'],\n",
       " 'area': ['15 m2'],\n",
       " 'date_in': [0],\n",
       " 'date_pub': ['2017年08月13日'],\n",
       " 'detail': ['\\n 房子住着清净\\r小区环境好，周边设施方便，紧邻木樨地地铁\\r因本人换工作，需紧急出租，价格可商议 \\n'],\n",
       " 'location': ['q'],\n",
       " 'payway': [1],\n",
       " 'price': [1400],\n",
       " 'source': [False]}"
      ]
     },
     "execution_count": 92,
     "metadata": {},
     "output_type": "execute_result"
    }
   ],
   "source": [
    "nn.db"
   ]
  },
  {
   "cell_type": "code",
   "execution_count": null,
   "metadata": {
    "collapsed": true
   },
   "outputs": [],
   "source": []
  },
  {
   "cell_type": "code",
   "execution_count": 100,
   "metadata": {
    "collapsed": true
   },
   "outputs": [],
   "source": [
    "class Ganji(HouseSite):\n",
    "    def __str__(self):\n",
    "        return 'Ganji'\n",
    "    \n",
    "    def __init__(self):\n",
    "        super(Ganji, self).__init__()\n",
    "        self.selectors = {\n",
    "            'price': '#f_detail > div:nth-of-type(5) > div.f-card.f-w1190.f-clear.f-b30 > \\\n",
    "div.card-info.f-fr > div.card-top > ul > li.price > span.num',\n",
    "            'align': '#f_detail > div:nth-of-type(5) > div.f-card.f-w1190.f-clear.f-b30 > \\\n",
    "div.card-info.f-fr > div.card-top > div.fang-info > span:nth-of-type(1)',\n",
    "            'area': '#f_detail > div:nth-of-type(5) > div.f-card.f-w1190.f-clear.f-b30 > \\\n",
    "div.card-info.f-fr > div.card-top > div.fang-info > span:nth-of-type(2)',\n",
    "            'date_pub': '#f_detail > div:nth-of-type(5) > div.f-card.f-w1190.f-clear.f-b30 > \\\n",
    "div.card-info.f-fr > div.card-top > \\\n",
    "div.card-status.f-clear > ul.card-status-left.f-fl > li.date',\n",
    "            'source': '#f_detail > div:nth-of-type(5) > div.f-card.f-w1190.f-clear.f-b30 > \\\n",
    "div.card-info.f-fr > div.card-user > div > div',\n",
    "            'detail': '#js-house-describe > div',\n",
    "            'payway': '#f_detail > div:nth-of-type(5) > div.f-card.f-w1190.f-clear.f-b30 > \\\n",
    "div.card-info.f-fr > div.card-top > ul > li.type'\n",
    "        }\n",
    "        \n",
    "    def getLocation(self):\n",
    "        if self.flag:\n",
    "            for i in self.webSoup.find_all(class_='map-content'):\n",
    "                tdata = json.loads(i.get('data-ref'))\n",
    "                if 'lnglat' in tdata:\n",
    "                    lnglat = tdata['lnglat'].split(',')\n",
    "                    lng_str = lnglat[0].strip('b')\n",
    "                    lat_str = lnglat[1]\n",
    "\n",
    "            lng = float(lng_str)\n",
    "            lat = float(lat_str)\n",
    "            place = {'lat':lat, 'lng':lng}\n",
    "            \n",
    "            self.db['location'].append(near_WhichPivot(place))\n",
    "\n",
    "    def getPrice(self):\n",
    "        if self.flag:\n",
    "            price = int(self.webSoup.select(self.selectors['price'])[0].text)\n",
    "            self.db['price'].append(price)\n",
    "    \n",
    "    def getAlign(self):\n",
    "        if self.flag:\n",
    "            align = self.webSoup.select(self.selectors['align'])[0].text.strip()\n",
    "            self.db['align'].append(align)\n",
    "    \n",
    "    def getArea(self):\n",
    "        if self.flag:\n",
    "            area = self.webSoup.select(self.selectors['area'])[0].text.strip()\n",
    "            self.db['area'].append(area)\n",
    "    \n",
    "    def getDate(self):\n",
    "        if self.flag:\n",
    "            date_pub = self.webSoup.select(self.selectors['date_pub'])[0].text\n",
    "            date_in = 0\n",
    "            \n",
    "            self.db['date_pub'].append(date_pub)\n",
    "            self.db['date_in'].append(date_in)\n",
    "\n",
    "    def getSource(self):\n",
    "        if self.flag:\n",
    "            source = False if self.webSoup.select(self.selectors['source'])[0].find(clas='company') else True\n",
    "            self.db['source'].append(source)\n",
    "    \n",
    "    def getDetail(self):\n",
    "        if self.flag:\n",
    "            detail = self.webSoup.select(self.selectors['detail'])[0].text\n",
    "            self.db['detail'].append(detail)\n",
    "            \n",
    "    def getPayway(self):\n",
    "        if self.flag:\n",
    "            payway = self.webSoup.select(self.selectors['payway'])[0].text\n",
    "            self.db['payway'].append(payway)"
   ]
  },
  {
   "cell_type": "code",
   "execution_count": 101,
   "metadata": {},
   "outputs": [
    {
     "name": "stdout",
     "output_type": "stream",
     "text": [
      "Start: http://bj.ganji.com/fang1/2867219813x.htm\n",
      "Finish: http://bj.ganji.com/fang1/2867219813x.htm\n"
     ]
    }
   ],
   "source": [
    "nn = Ganji()\n",
    "url = 'http://bj.ganji.com/fang1/2867219813x.htm'\n",
    "nn.getInfos(url)"
   ]
  },
  {
   "cell_type": "code",
   "execution_count": 102,
   "metadata": {},
   "outputs": [
    {
     "data": {
      "text/plain": [
       "{'URL': ['http://bj.ganji.com/fang1/2867219813x.htm'],\n",
       " 'align': ['1室1厅1卫'],\n",
       " 'area': ['整租43㎡'],\n",
       " 'date_in': [0],\n",
       " 'date_pub': ['1天前'],\n",
       " 'detail': ['\\n\\n                槐柏树街北里 房子中等装修，全新家具家电，南北朝向，需要详谈{女士勿扰}环境优雅，希望这套房子能给你温馨的感觉,765.232.854            \\n'],\n",
       " 'location': ['c'],\n",
       " 'payway': ['押一付一'],\n",
       " 'price': [1600],\n",
       " 'source': [True]}"
      ]
     },
     "execution_count": 102,
     "metadata": {},
     "output_type": "execute_result"
    }
   ],
   "source": [
    "nn.db"
   ]
  },
  {
   "cell_type": "code",
   "execution_count": null,
   "metadata": {
    "collapsed": true
   },
   "outputs": [],
   "source": []
  },
  {
   "cell_type": "code",
   "execution_count": 111,
   "metadata": {
    "collapsed": true
   },
   "outputs": [],
   "source": [
    "class Tongcheng58(HouseSite):\n",
    "    def __str__(self):\n",
    "        return 'Tongcheng58'\n",
    "    \n",
    "    def __init__(self):\n",
    "        super(Tongcheng58, self).__init__()\n",
    "        self.selectors = {\n",
    "            'price': 'body > div.main-wrap > div.house-basic-info > div.house-basic-right.fr \\\n",
    "> div.house-basic-desc > div.house-desc-item.fl.c_333 > div > span.c_ff552e > b',\n",
    "            'align': 'body > div.main-wrap > div.house-basic-info > div.house-basic-right.fr > \\\n",
    "div.house-basic-desc > div.house-desc-item.fl.c_333 > ul > li:nth-of-type(2) > span:nth-of-type(2)',\n",
    "            'date_pub': 'body > div.main-wrap > div.house-title > p',\n",
    "            'source': 'body > div.main-wrap > div.house-basic-info > div.house-basic-right.fr',\n",
    "            'detail': 'body > div.main-wrap > div.house-detail-desc > div.main-detail-info.fl \\\n",
    "> div.house-word-introduce.f16.c_555 > ul > li > span.a2',\n",
    "            'payway': 'body > div.main-wrap > div.house-basic-info > div.house-basic-right.fr > \\\n",
    "div.house-basic-desc > div.house-desc-item.fl.c_333 > div > span.c_333'\n",
    "        }\n",
    "        \n",
    "    def getInfos(self, url):\n",
    "        print('Start:', url)\n",
    "        self.flag = True\n",
    "        self.getDataRaw(url)\n",
    "        self.getLocation()\n",
    "        self.getPrice()\n",
    "        self.getAlignArea()\n",
    "        self.getDate()\n",
    "        self.getSource()\n",
    "        self.getDetail()\n",
    "        self.getPayway()\n",
    "        self.flag = False\n",
    "        print('Finish:', url)\n",
    "        \n",
    "    def getLocation(self):\n",
    "        if self.flag:\n",
    "            for i in self.webSoup.find_all('script'):\n",
    "                pattern_lng = \"(?<=baidulon\\\":)\\d+\\.\\d+\"\n",
    "                gg_lng = re.search(pattern=pattern_lng, string=i.text)\n",
    "                if gg_lng:\n",
    "                    lng_str = gg_lng.group()\n",
    "\n",
    "                pattern_lat = \"(?<=baidulat\\\":)\\d+\\.\\d+\"\n",
    "                gg_lat = re.search(pattern=pattern_lat, string=i.text)\n",
    "                if gg_lat:\n",
    "                    lat_str = gg_lat.group()\n",
    "\n",
    "            lng = float(lng_str)\n",
    "            lat = float(lat_str)\n",
    "            place = {'lat':lat, 'lng':lng}\n",
    "            \n",
    "            self.db['location'].append(near_WhichPivot(place))\n",
    "\n",
    "    def getPrice(self):\n",
    "        if self.flag:\n",
    "            price = int(self.webSoup.select(self.selectors['price'])[0].text)\n",
    "            self.db['price'].append(price)\n",
    "    \n",
    "    def getAlignArea(self):\n",
    "        if self.flag:\n",
    "            align_area = self.webSoup.select(self.selectors['align'])[0].text\n",
    "            align_area = re.sub(pattern='\\s+', repl=' ', string=align_area)\n",
    "\n",
    "            pattern_align = '.*? '\n",
    "            gg = re.search(pattern=pattern_align, string=align_area)\n",
    "            align = gg.group()\n",
    "            \n",
    "            pattern_area = '.*平 '\n",
    "            gg = re.search(pattern=pattern_area, string=align_area.strip(align))\n",
    "            area = gg.group()\n",
    "            \n",
    "            self.db['align'].append(align)\n",
    "            self.db['area'].append(area)\n",
    "    \n",
    "    def getDate(self):\n",
    "        if self.flag:\n",
    "            date_pub = self.webSoup.select(self.selectors['date_pub'])[0].text\n",
    "            date_pub = re.sub(pattern='\\s+', repl=' ', string=date_pub)\n",
    "            date_pub = re.search(pattern='(.*) (?=\\d 次)', string=date_pub).group(0)\n",
    "            date_in = 0\n",
    "            \n",
    "            self.db['date_pub'].append(date_pub)\n",
    "            self.db['date_in'].append(date_in)\n",
    "\n",
    "    def getSource(self):\n",
    "        if self.flag:\n",
    "            source = True if self.webSoup.select(self.selectors['source'])[0].find(id='single') else False\n",
    "            self.db['source'].append(source)\n",
    "\n",
    "    def getDetail(self):\n",
    "        if self.flag:\n",
    "            detail = self.webSoup.select(self.selectors['detail'])[0].text\n",
    "            self.db['detail'].append(detail)\n",
    "            \n",
    "    def getPayway(self):\n",
    "        if self.flag:\n",
    "            payway = self.webSoup.select(self.selectors['payway'])[0].text\n",
    "            self.db['payway'].append(payway)"
   ]
  },
  {
   "cell_type": "code",
   "execution_count": 112,
   "metadata": {},
   "outputs": [
    {
     "name": "stdout",
     "output_type": "stream",
     "text": [
      "Start: http://bj.58.com/zufang/30114173375050x.shtml\n",
      "Finish: http://bj.58.com/zufang/30114173375050x.shtml\n"
     ]
    }
   ],
   "source": [
    "nn = Tongcheng58()\n",
    "url = 'http://bj.58.com/zufang/30114173375050x.shtml'\n",
    "nn.getInfos(url)"
   ]
  },
  {
   "cell_type": "code",
   "execution_count": null,
   "metadata": {
    "collapsed": true
   },
   "outputs": [],
   "source": []
  },
  {
   "cell_type": "code",
   "execution_count": 114,
   "metadata": {
    "collapsed": true
   },
   "outputs": [],
   "source": [
    "def which_site(url):\n",
    "    PATTERN_107 = '107room'\n",
    "    PATTERN_58 = 'bj.58.com'\n",
    "    PATTERN_GJ = 'ganji.com'\n",
    "    if PATTERN_107 in url:\n",
    "        return 'Room107'\n",
    "    elif PATTERN_58 in url:\n",
    "        return 'Tongcheng58'\n",
    "    elif PATTERN_GJ in url:\n",
    "        return 'Ganji'"
   ]
  },
  {
   "cell_type": "code",
   "execution_count": 45,
   "metadata": {},
   "outputs": [
    {
     "name": "stdout",
     "output_type": "stream",
     "text": [
      "Start: http://www.107room.com/r353057\n",
      "\n"
     ]
    },
    {
     "ename": "IndexError",
     "evalue": "list index out of range",
     "output_type": "error",
     "traceback": [
      "\u001b[0;31m---------------------------------------------------------------------------\u001b[0m",
      "\u001b[0;31mIndexError\u001b[0m                                Traceback (most recent call last)",
      "\u001b[0;32m<ipython-input-45-de954bd86e7d>\u001b[0m in \u001b[0;36m<module>\u001b[0;34m()\u001b[0m\n\u001b[1;32m     12\u001b[0m         \u001b[0murl\u001b[0m \u001b[0;34m=\u001b[0m \u001b[0murlf\u001b[0m\u001b[0;34m.\u001b[0m\u001b[0mreadline\u001b[0m\u001b[0;34m(\u001b[0m\u001b[0;34m)\u001b[0m\u001b[0;34m\u001b[0m\u001b[0m\n\u001b[1;32m     13\u001b[0m         \u001b[0;32mif\u001b[0m \u001b[0murl\u001b[0m \u001b[0;34m!=\u001b[0m \u001b[0;34m''\u001b[0m\u001b[0;34m:\u001b[0m\u001b[0;34m\u001b[0m\u001b[0m\n\u001b[0;32m---> 14\u001b[0;31m             \u001b[0msites\u001b[0m\u001b[0;34m[\u001b[0m\u001b[0mwhich_site\u001b[0m\u001b[0;34m(\u001b[0m\u001b[0murl\u001b[0m\u001b[0;34m)\u001b[0m\u001b[0;34m]\u001b[0m\u001b[0;34m.\u001b[0m\u001b[0mgetInfos\u001b[0m\u001b[0;34m(\u001b[0m\u001b[0murl\u001b[0m\u001b[0;34m)\u001b[0m\u001b[0;34m\u001b[0m\u001b[0m\n\u001b[0m\u001b[1;32m     15\u001b[0m             \u001b[0mtime\u001b[0m\u001b[0;34m.\u001b[0m\u001b[0msleep\u001b[0m\u001b[0;34m(\u001b[0m\u001b[0mrandom\u001b[0m\u001b[0;34m.\u001b[0m\u001b[0mrandint\u001b[0m\u001b[0;34m(\u001b[0m\u001b[0;36m1\u001b[0m\u001b[0;34m,\u001b[0m \u001b[0;36m4\u001b[0m\u001b[0;34m)\u001b[0m\u001b[0;34m)\u001b[0m\u001b[0;34m\u001b[0m\u001b[0m\n\u001b[1;32m     16\u001b[0m         \u001b[0;32melse\u001b[0m\u001b[0;34m:\u001b[0m\u001b[0;34m\u001b[0m\u001b[0m\n",
      "\u001b[0;32m<ipython-input-38-b329e056aa15>\u001b[0m in \u001b[0;36mgetInfos\u001b[0;34m(self, url)\u001b[0m\n\u001b[1;32m     20\u001b[0m         \u001b[0mself\u001b[0m\u001b[0;34m.\u001b[0m\u001b[0mflag\u001b[0m \u001b[0;34m=\u001b[0m \u001b[0;32mTrue\u001b[0m\u001b[0;34m\u001b[0m\u001b[0m\n\u001b[1;32m     21\u001b[0m         \u001b[0mself\u001b[0m\u001b[0;34m.\u001b[0m\u001b[0mgetDataRaw\u001b[0m\u001b[0;34m(\u001b[0m\u001b[0murl\u001b[0m\u001b[0;34m)\u001b[0m\u001b[0;34m\u001b[0m\u001b[0m\n\u001b[0;32m---> 22\u001b[0;31m         \u001b[0mself\u001b[0m\u001b[0;34m.\u001b[0m\u001b[0mgetLocation\u001b[0m\u001b[0;34m(\u001b[0m\u001b[0;34m)\u001b[0m\u001b[0;34m\u001b[0m\u001b[0m\n\u001b[0m\u001b[1;32m     23\u001b[0m         \u001b[0mself\u001b[0m\u001b[0;34m.\u001b[0m\u001b[0mgetPrice\u001b[0m\u001b[0;34m(\u001b[0m\u001b[0;34m)\u001b[0m\u001b[0;34m\u001b[0m\u001b[0m\n\u001b[1;32m     24\u001b[0m         \u001b[0mself\u001b[0m\u001b[0;34m.\u001b[0m\u001b[0mgetAlign\u001b[0m\u001b[0;34m(\u001b[0m\u001b[0;34m)\u001b[0m\u001b[0;34m\u001b[0m\u001b[0m\n",
      "\u001b[0;32m<ipython-input-39-928ff8a7723a>\u001b[0m in \u001b[0;36mgetLocation\u001b[0;34m(self)\u001b[0m\n\u001b[1;32m     30\u001b[0m             \u001b[0mlngs\u001b[0m \u001b[0;34m=\u001b[0m \u001b[0mself\u001b[0m\u001b[0;34m.\u001b[0m\u001b[0mwebSoup\u001b[0m\u001b[0;34m.\u001b[0m\u001b[0mselect\u001b[0m\u001b[0;34m(\u001b[0m\u001b[0mself\u001b[0m\u001b[0;34m.\u001b[0m\u001b[0mselectors\u001b[0m\u001b[0;34m[\u001b[0m\u001b[0;34m'lng'\u001b[0m\u001b[0;34m]\u001b[0m\u001b[0;34m)\u001b[0m\u001b[0;34m\u001b[0m\u001b[0m\n\u001b[1;32m     31\u001b[0m \u001b[0;34m\u001b[0m\u001b[0m\n\u001b[0;32m---> 32\u001b[0;31m             \u001b[0mlat\u001b[0m \u001b[0;34m=\u001b[0m \u001b[0mfloat\u001b[0m\u001b[0;34m(\u001b[0m\u001b[0mlats\u001b[0m\u001b[0;34m[\u001b[0m\u001b[0;36m0\u001b[0m\u001b[0;34m]\u001b[0m\u001b[0;34m.\u001b[0m\u001b[0mtext\u001b[0m\u001b[0;34m)\u001b[0m\u001b[0;34m\u001b[0m\u001b[0m\n\u001b[0m\u001b[1;32m     33\u001b[0m             \u001b[0mlng\u001b[0m \u001b[0;34m=\u001b[0m \u001b[0mfloat\u001b[0m\u001b[0;34m(\u001b[0m\u001b[0mlngs\u001b[0m\u001b[0;34m[\u001b[0m\u001b[0;36m0\u001b[0m\u001b[0;34m]\u001b[0m\u001b[0;34m.\u001b[0m\u001b[0mtext\u001b[0m\u001b[0;34m)\u001b[0m\u001b[0;34m\u001b[0m\u001b[0m\n\u001b[1;32m     34\u001b[0m \u001b[0;34m\u001b[0m\u001b[0m\n",
      "\u001b[0;31mIndexError\u001b[0m: list index out of range"
     ]
    }
   ],
   "source": [
    "#read url and begin crawl\n",
    "\n",
    "sites = {\n",
    "    'Room107': Room107(),\n",
    "    'Tongcheng58': Tongcheng58(),\n",
    "    'Ganji': Ganji()\n",
    "}\n",
    "\n",
    "urlfile = 'urls_crawl.txt'\n",
    "with open(urlfile, 'r') as urlf:\n",
    "    while True:\n",
    "        url = urlf.readline()\n",
    "        if url != '':\n",
    "            sites[which_site(url)].getInfos(url)\n",
    "            time.sleep(random.randint(1, 4))\n",
    "        else:\n",
    "            break"
   ]
  },
  {
   "cell_type": "code",
   "execution_count": null,
   "metadata": {
    "collapsed": true
   },
   "outputs": [],
   "source": []
  }
 ],
 "metadata": {
  "kernelspec": {
   "display_name": "Python 3",
   "language": "python",
   "name": "python3"
  },
  "language_info": {
   "codemirror_mode": {
    "name": "ipython",
    "version": 3
   },
   "file_extension": ".py",
   "mimetype": "text/x-python",
   "name": "python",
   "nbconvert_exporter": "python",
   "pygments_lexer": "ipython3",
   "version": "3.6.1"
  }
 },
 "nbformat": 4,
 "nbformat_minor": 2
}
